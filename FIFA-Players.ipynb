{
 "cells": [
  {
   "metadata": {},
   "cell_type": "markdown",
   "source": [
    "# Context:\n",
    "\n",
    "A new football club named ‘GL United FC’ has just been inaugurated. This club\n",
    "does not have a team yet. The team is looking to hire players for their roster.\n",
    "Management wants to make such decisions using a data based approach.\n",
    "During a recent hiring drive, you were selected for the Data Science team as a\n",
    "data scientist. Your team has been tasked with creating a report which\n",
    "recommends players for the main team. To start with, a total of 15 players are\n",
    "required. Player data for all teams has been acquired from FIFA. This data\n",
    "contains information about the players, the clubs they are currently playing for\n",
    "and various performance measures. The team needs 20 possible players to\n",
    "choose from. You have been requested to do the analysis and formulate a\n",
    "report in order to help the management make a decision regarding potential\n",
    "players."
   ],
   "id": "8a77807f92f26ee"
  },
  {
   "metadata": {},
   "cell_type": "markdown",
   "source": [
    "# Dataset Description:\n",
    "The data contains details for over 18,000 players playing in various football\n",
    "clubs in Europe. It contains information on age, skill rating, wages and player\n",
    "value, etc. The files provided are as follows:\n",
    "\n",
    "# fifa.csv – data file.\n",
    "# fifa_ variable_information.csv - information on individual variables"
   ],
   "id": "4a513049f6de646b"
  },
  {
   "metadata": {},
   "cell_type": "markdown",
   "source": "# Questions: (Total points: 50)",
   "id": "86ef74ce9e6e241c"
  },
  {
   "metadata": {},
   "cell_type": "markdown",
   "source": [
    "# Load and explore data (4 points)\n",
    "1. Import the required libraries and read the dataset. (1 point)\n",
    "2. Check the first few samples, shape, info of the data and try to familiarize\n",
    "yourself with different features. (2 points)\n",
    "3. Drop the columns which you think redundant for the analysis. (1 point)\n",
    "[Hint: columns like 'Photo','Flag','Club Logo']"
   ],
   "id": "58603769a8705f92"
  },
  {
   "metadata": {},
   "cell_type": "markdown",
   "source": "# 1. Import the required libraries and read the dataset. (1 point)",
   "id": "7905873b909c1123"
  },
  {
   "metadata": {
    "ExecuteTime": {
     "end_time": "2024-11-03T16:36:55.517635Z",
     "start_time": "2024-11-03T16:36:55.513858Z"
    }
   },
   "cell_type": "code",
   "source": [
    "#Step 1: Load and Explore Data (4 points)\n",
    "#Import Required Libraries and Read Dataset\n",
    "\n",
    "\n",
    "import pandas as pd\n",
    "import numpy as np\n",
    "import matplotlib.pyplot as plt\n",
    "import seaborn as sns"
   ],
   "id": "fbc121e30a2defb3",
   "outputs": [],
   "execution_count": 212
  },
  {
   "metadata": {
    "ExecuteTime": {
     "end_time": "2024-11-03T16:36:55.543463Z",
     "start_time": "2024-11-03T16:36:55.539169Z"
    }
   },
   "cell_type": "code",
   "source": [
    "import warnings\n",
    "\n",
    "# Suppress all warnings\n",
    "warnings.filterwarnings(\"ignore\")\n",
    "\n",
    "# Your code that generates warnings\n"
   ],
   "id": "1071e235672e5e73",
   "outputs": [],
   "execution_count": 213
  },
  {
   "metadata": {
    "ExecuteTime": {
     "end_time": "2024-11-03T16:36:55.628915Z",
     "start_time": "2024-11-03T16:36:55.624901Z"
    }
   },
   "cell_type": "code",
   "source": [
    "# Suppress FutureWarnings\n",
    "warnings.simplefilter(action='ignore', category=FutureWarning)\n",
    "\n",
    "# Your code here\n"
   ],
   "id": "2d0b4863e54c9d2d",
   "outputs": [],
   "execution_count": 214
  },
  {
   "metadata": {
    "ExecuteTime": {
     "end_time": "2024-11-03T16:36:55.858460Z",
     "start_time": "2024-11-03T16:36:55.710578Z"
    }
   },
   "cell_type": "code",
   "source": [
    "# Load the data\n",
    "fifa_data = \"./data/fifa.csv\"\n",
    "fifa_data_df = pd.read_csv(fifa_data)\n",
    "fifa_var_info_data = \"./data/fifa_variable_information.csv\"\n",
    "fifa_var_info_df = pd.read_csv(fifa_var_info_data)"
   ],
   "id": "ca77238e02f477dd",
   "outputs": [],
   "execution_count": 215
  },
  {
   "metadata": {},
   "cell_type": "markdown",
   "source": "# 2. Check the first few samples, shape, info of the data and try to familiarize yourself with different features. (2 points)",
   "id": "27250f74e3bc78b6"
  },
  {
   "metadata": {
    "ExecuteTime": {
     "end_time": "2024-11-03T16:36:55.963123Z",
     "start_time": "2024-11-03T16:36:55.943412Z"
    }
   },
   "cell_type": "code",
   "source": [
    "\n",
    "\n",
    "#2. Check First Few Samples, Shape, and Info\n",
    "\n",
    "\n",
    "# Explore the data\n",
    "fifa_data_df.head()\n"
   ],
   "id": "a56406e70d69b0f0",
   "outputs": [
    {
     "data": {
      "text/plain": [
       "       ID               Name  Age  \\\n",
       "0  158023           L. Messi   31   \n",
       "1   20801  Cristiano Ronaldo   33   \n",
       "2  190871          Neymar Jr   26   \n",
       "3  193080             De Gea   27   \n",
       "4  192985       K. De Bruyne   27   \n",
       "\n",
       "                                            Photo Nationality  \\\n",
       "0  https://cdn.sofifa.org/players/4/19/158023.png   Argentina   \n",
       "1   https://cdn.sofifa.org/players/4/19/20801.png    Portugal   \n",
       "2  https://cdn.sofifa.org/players/4/19/190871.png      Brazil   \n",
       "3  https://cdn.sofifa.org/players/4/19/193080.png       Spain   \n",
       "4  https://cdn.sofifa.org/players/4/19/192985.png     Belgium   \n",
       "\n",
       "                                  Flag  Overall  Potential  \\\n",
       "0  https://cdn.sofifa.org/flags/52.png       94         94   \n",
       "1  https://cdn.sofifa.org/flags/38.png       94         94   \n",
       "2  https://cdn.sofifa.org/flags/54.png       92         93   \n",
       "3  https://cdn.sofifa.org/flags/45.png       91         93   \n",
       "4   https://cdn.sofifa.org/flags/7.png       91         92   \n",
       "\n",
       "                  Club                                     Club Logo  ...  \\\n",
       "0         FC Barcelona  https://cdn.sofifa.org/teams/2/light/241.png  ...   \n",
       "1             Juventus   https://cdn.sofifa.org/teams/2/light/45.png  ...   \n",
       "2  Paris Saint-Germain   https://cdn.sofifa.org/teams/2/light/73.png  ...   \n",
       "3    Manchester United   https://cdn.sofifa.org/teams/2/light/11.png  ...   \n",
       "4      Manchester City   https://cdn.sofifa.org/teams/2/light/10.png  ...   \n",
       "\n",
       "  Composure Marking StandingTackle  SlidingTackle  GKDiving  GKHandling  \\\n",
       "0      96.0    33.0           28.0           26.0       6.0        11.0   \n",
       "1      95.0    28.0           31.0           23.0       7.0        11.0   \n",
       "2      94.0    27.0           24.0           33.0       9.0         9.0   \n",
       "3      68.0    15.0           21.0           13.0      90.0        85.0   \n",
       "4      88.0    68.0           58.0           51.0      15.0        13.0   \n",
       "\n",
       "  GKKicking GKPositioning GKReflexes  Release Clause  \n",
       "0      15.0          14.0        8.0         €226.5M  \n",
       "1      15.0          14.0       11.0         €127.1M  \n",
       "2      15.0          15.0       11.0         €228.1M  \n",
       "3      87.0          88.0       94.0         €138.6M  \n",
       "4       5.0          10.0       13.0         €196.4M  \n",
       "\n",
       "[5 rows x 60 columns]"
      ],
      "text/html": [
       "<div>\n",
       "<style scoped>\n",
       "    .dataframe tbody tr th:only-of-type {\n",
       "        vertical-align: middle;\n",
       "    }\n",
       "\n",
       "    .dataframe tbody tr th {\n",
       "        vertical-align: top;\n",
       "    }\n",
       "\n",
       "    .dataframe thead th {\n",
       "        text-align: right;\n",
       "    }\n",
       "</style>\n",
       "<table border=\"1\" class=\"dataframe\">\n",
       "  <thead>\n",
       "    <tr style=\"text-align: right;\">\n",
       "      <th></th>\n",
       "      <th>ID</th>\n",
       "      <th>Name</th>\n",
       "      <th>Age</th>\n",
       "      <th>Photo</th>\n",
       "      <th>Nationality</th>\n",
       "      <th>Flag</th>\n",
       "      <th>Overall</th>\n",
       "      <th>Potential</th>\n",
       "      <th>Club</th>\n",
       "      <th>Club Logo</th>\n",
       "      <th>...</th>\n",
       "      <th>Composure</th>\n",
       "      <th>Marking</th>\n",
       "      <th>StandingTackle</th>\n",
       "      <th>SlidingTackle</th>\n",
       "      <th>GKDiving</th>\n",
       "      <th>GKHandling</th>\n",
       "      <th>GKKicking</th>\n",
       "      <th>GKPositioning</th>\n",
       "      <th>GKReflexes</th>\n",
       "      <th>Release Clause</th>\n",
       "    </tr>\n",
       "  </thead>\n",
       "  <tbody>\n",
       "    <tr>\n",
       "      <th>0</th>\n",
       "      <td>158023</td>\n",
       "      <td>L. Messi</td>\n",
       "      <td>31</td>\n",
       "      <td>https://cdn.sofifa.org/players/4/19/158023.png</td>\n",
       "      <td>Argentina</td>\n",
       "      <td>https://cdn.sofifa.org/flags/52.png</td>\n",
       "      <td>94</td>\n",
       "      <td>94</td>\n",
       "      <td>FC Barcelona</td>\n",
       "      <td>https://cdn.sofifa.org/teams/2/light/241.png</td>\n",
       "      <td>...</td>\n",
       "      <td>96.0</td>\n",
       "      <td>33.0</td>\n",
       "      <td>28.0</td>\n",
       "      <td>26.0</td>\n",
       "      <td>6.0</td>\n",
       "      <td>11.0</td>\n",
       "      <td>15.0</td>\n",
       "      <td>14.0</td>\n",
       "      <td>8.0</td>\n",
       "      <td>€226.5M</td>\n",
       "    </tr>\n",
       "    <tr>\n",
       "      <th>1</th>\n",
       "      <td>20801</td>\n",
       "      <td>Cristiano Ronaldo</td>\n",
       "      <td>33</td>\n",
       "      <td>https://cdn.sofifa.org/players/4/19/20801.png</td>\n",
       "      <td>Portugal</td>\n",
       "      <td>https://cdn.sofifa.org/flags/38.png</td>\n",
       "      <td>94</td>\n",
       "      <td>94</td>\n",
       "      <td>Juventus</td>\n",
       "      <td>https://cdn.sofifa.org/teams/2/light/45.png</td>\n",
       "      <td>...</td>\n",
       "      <td>95.0</td>\n",
       "      <td>28.0</td>\n",
       "      <td>31.0</td>\n",
       "      <td>23.0</td>\n",
       "      <td>7.0</td>\n",
       "      <td>11.0</td>\n",
       "      <td>15.0</td>\n",
       "      <td>14.0</td>\n",
       "      <td>11.0</td>\n",
       "      <td>€127.1M</td>\n",
       "    </tr>\n",
       "    <tr>\n",
       "      <th>2</th>\n",
       "      <td>190871</td>\n",
       "      <td>Neymar Jr</td>\n",
       "      <td>26</td>\n",
       "      <td>https://cdn.sofifa.org/players/4/19/190871.png</td>\n",
       "      <td>Brazil</td>\n",
       "      <td>https://cdn.sofifa.org/flags/54.png</td>\n",
       "      <td>92</td>\n",
       "      <td>93</td>\n",
       "      <td>Paris Saint-Germain</td>\n",
       "      <td>https://cdn.sofifa.org/teams/2/light/73.png</td>\n",
       "      <td>...</td>\n",
       "      <td>94.0</td>\n",
       "      <td>27.0</td>\n",
       "      <td>24.0</td>\n",
       "      <td>33.0</td>\n",
       "      <td>9.0</td>\n",
       "      <td>9.0</td>\n",
       "      <td>15.0</td>\n",
       "      <td>15.0</td>\n",
       "      <td>11.0</td>\n",
       "      <td>€228.1M</td>\n",
       "    </tr>\n",
       "    <tr>\n",
       "      <th>3</th>\n",
       "      <td>193080</td>\n",
       "      <td>De Gea</td>\n",
       "      <td>27</td>\n",
       "      <td>https://cdn.sofifa.org/players/4/19/193080.png</td>\n",
       "      <td>Spain</td>\n",
       "      <td>https://cdn.sofifa.org/flags/45.png</td>\n",
       "      <td>91</td>\n",
       "      <td>93</td>\n",
       "      <td>Manchester United</td>\n",
       "      <td>https://cdn.sofifa.org/teams/2/light/11.png</td>\n",
       "      <td>...</td>\n",
       "      <td>68.0</td>\n",
       "      <td>15.0</td>\n",
       "      <td>21.0</td>\n",
       "      <td>13.0</td>\n",
       "      <td>90.0</td>\n",
       "      <td>85.0</td>\n",
       "      <td>87.0</td>\n",
       "      <td>88.0</td>\n",
       "      <td>94.0</td>\n",
       "      <td>€138.6M</td>\n",
       "    </tr>\n",
       "    <tr>\n",
       "      <th>4</th>\n",
       "      <td>192985</td>\n",
       "      <td>K. De Bruyne</td>\n",
       "      <td>27</td>\n",
       "      <td>https://cdn.sofifa.org/players/4/19/192985.png</td>\n",
       "      <td>Belgium</td>\n",
       "      <td>https://cdn.sofifa.org/flags/7.png</td>\n",
       "      <td>91</td>\n",
       "      <td>92</td>\n",
       "      <td>Manchester City</td>\n",
       "      <td>https://cdn.sofifa.org/teams/2/light/10.png</td>\n",
       "      <td>...</td>\n",
       "      <td>88.0</td>\n",
       "      <td>68.0</td>\n",
       "      <td>58.0</td>\n",
       "      <td>51.0</td>\n",
       "      <td>15.0</td>\n",
       "      <td>13.0</td>\n",
       "      <td>5.0</td>\n",
       "      <td>10.0</td>\n",
       "      <td>13.0</td>\n",
       "      <td>€196.4M</td>\n",
       "    </tr>\n",
       "  </tbody>\n",
       "</table>\n",
       "<p>5 rows × 60 columns</p>\n",
       "</div>"
      ]
     },
     "execution_count": 216,
     "metadata": {},
     "output_type": "execute_result"
    }
   ],
   "execution_count": 216
  },
  {
   "metadata": {
    "ExecuteTime": {
     "end_time": "2024-11-03T16:36:56.103868Z",
     "start_time": "2024-11-03T16:36:56.095664Z"
    }
   },
   "cell_type": "code",
   "source": "fifa_var_info_df.head()\n",
   "id": "bdcce4f74f2e39cf",
   "outputs": [
    {
     "data": {
      "text/plain": [
       "            ID     unique id for every player\n",
       "0         Name                           name\n",
       "1          Age                            age\n",
       "2        Photo      url to the player's photo\n",
       "3  Nationality                    nationality\n",
       "4         Flag  url to players's country flag"
      ],
      "text/html": [
       "<div>\n",
       "<style scoped>\n",
       "    .dataframe tbody tr th:only-of-type {\n",
       "        vertical-align: middle;\n",
       "    }\n",
       "\n",
       "    .dataframe tbody tr th {\n",
       "        vertical-align: top;\n",
       "    }\n",
       "\n",
       "    .dataframe thead th {\n",
       "        text-align: right;\n",
       "    }\n",
       "</style>\n",
       "<table border=\"1\" class=\"dataframe\">\n",
       "  <thead>\n",
       "    <tr style=\"text-align: right;\">\n",
       "      <th></th>\n",
       "      <th>ID</th>\n",
       "      <th>unique id for every player</th>\n",
       "    </tr>\n",
       "  </thead>\n",
       "  <tbody>\n",
       "    <tr>\n",
       "      <th>0</th>\n",
       "      <td>Name</td>\n",
       "      <td>name</td>\n",
       "    </tr>\n",
       "    <tr>\n",
       "      <th>1</th>\n",
       "      <td>Age</td>\n",
       "      <td>age</td>\n",
       "    </tr>\n",
       "    <tr>\n",
       "      <th>2</th>\n",
       "      <td>Photo</td>\n",
       "      <td>url to the player's photo</td>\n",
       "    </tr>\n",
       "    <tr>\n",
       "      <th>3</th>\n",
       "      <td>Nationality</td>\n",
       "      <td>nationality</td>\n",
       "    </tr>\n",
       "    <tr>\n",
       "      <th>4</th>\n",
       "      <td>Flag</td>\n",
       "      <td>url to players's country flag</td>\n",
       "    </tr>\n",
       "  </tbody>\n",
       "</table>\n",
       "</div>"
      ]
     },
     "execution_count": 217,
     "metadata": {},
     "output_type": "execute_result"
    }
   ],
   "execution_count": 217
  },
  {
   "metadata": {
    "ExecuteTime": {
     "end_time": "2024-11-03T16:36:56.226136Z",
     "start_time": "2024-11-03T16:36:56.220559Z"
    }
   },
   "cell_type": "code",
   "source": "fifa_data_df.shape\n",
   "id": "298bcb56fa9c3ba6",
   "outputs": [
    {
     "data": {
      "text/plain": [
       "(18207, 60)"
      ]
     },
     "execution_count": 218,
     "metadata": {},
     "output_type": "execute_result"
    }
   ],
   "execution_count": 218
  },
  {
   "metadata": {
    "ExecuteTime": {
     "end_time": "2024-11-03T16:36:56.528202Z",
     "start_time": "2024-11-03T16:36:56.522190Z"
    }
   },
   "cell_type": "code",
   "source": "fifa_var_info_df.shape\n",
   "id": "79f8f49b56429731",
   "outputs": [
    {
     "data": {
      "text/plain": [
       "(59, 2)"
      ]
     },
     "execution_count": 219,
     "metadata": {},
     "output_type": "execute_result"
    }
   ],
   "execution_count": 219
  },
  {
   "metadata": {
    "ExecuteTime": {
     "end_time": "2024-11-03T16:36:56.748007Z",
     "start_time": "2024-11-03T16:36:56.725225Z"
    }
   },
   "cell_type": "code",
   "source": "fifa_data_df.info()\n",
   "id": "8852447aa2d23193",
   "outputs": [
    {
     "name": "stdout",
     "output_type": "stream",
     "text": [
      "<class 'pandas.core.frame.DataFrame'>\n",
      "RangeIndex: 18207 entries, 0 to 18206\n",
      "Data columns (total 60 columns):\n",
      " #   Column                    Non-Null Count  Dtype  \n",
      "---  ------                    --------------  -----  \n",
      " 0   ID                        18207 non-null  int64  \n",
      " 1   Name                      18207 non-null  object \n",
      " 2   Age                       18207 non-null  int64  \n",
      " 3   Photo                     18207 non-null  object \n",
      " 4   Nationality               18207 non-null  object \n",
      " 5   Flag                      18207 non-null  object \n",
      " 6   Overall                   18207 non-null  int64  \n",
      " 7   Potential                 18207 non-null  int64  \n",
      " 8   Club                      17966 non-null  object \n",
      " 9   Club Logo                 18207 non-null  object \n",
      " 10  Value                     18207 non-null  object \n",
      " 11  Wage                      18207 non-null  object \n",
      " 12  Preferred Foot            18159 non-null  object \n",
      " 13  International Reputation  18159 non-null  float64\n",
      " 14  Weak Foot                 18159 non-null  float64\n",
      " 15  Skill Moves               18159 non-null  float64\n",
      " 16  Work Rate                 18159 non-null  object \n",
      " 17  Body Type                 18159 non-null  object \n",
      " 18  Position                  18147 non-null  object \n",
      " 19  Jersey Number             18147 non-null  float64\n",
      " 20  Joined                    16654 non-null  object \n",
      " 21  Loaned From               1264 non-null   object \n",
      " 22  Contract Valid Until      17918 non-null  object \n",
      " 23  Height                    18159 non-null  object \n",
      " 24  Weight                    18159 non-null  object \n",
      " 25  Crossing                  18159 non-null  float64\n",
      " 26  Finishing                 18159 non-null  float64\n",
      " 27  HeadingAccuracy           18159 non-null  float64\n",
      " 28  ShortPassing              18159 non-null  float64\n",
      " 29  Volleys                   18159 non-null  float64\n",
      " 30  Dribbling                 18159 non-null  float64\n",
      " 31  Curve                     18159 non-null  float64\n",
      " 32  FKAccuracy                18159 non-null  float64\n",
      " 33  LongPassing               18159 non-null  float64\n",
      " 34  BallControl               18159 non-null  float64\n",
      " 35  Acceleration              18159 non-null  float64\n",
      " 36  SprintSpeed               18159 non-null  float64\n",
      " 37  Agility                   18159 non-null  float64\n",
      " 38  Reactions                 18159 non-null  float64\n",
      " 39  Balance                   18159 non-null  float64\n",
      " 40  ShotPower                 18159 non-null  float64\n",
      " 41  Jumping                   18159 non-null  float64\n",
      " 42  Stamina                   18159 non-null  float64\n",
      " 43  Strength                  18159 non-null  float64\n",
      " 44  LongShots                 18159 non-null  float64\n",
      " 45  Aggression                18159 non-null  float64\n",
      " 46  Interceptions             18159 non-null  float64\n",
      " 47  Positioning               18159 non-null  float64\n",
      " 48  Vision                    18159 non-null  float64\n",
      " 49  Penalties                 18159 non-null  float64\n",
      " 50  Composure                 18159 non-null  float64\n",
      " 51  Marking                   18159 non-null  float64\n",
      " 52  StandingTackle            18159 non-null  float64\n",
      " 53  SlidingTackle             18159 non-null  float64\n",
      " 54  GKDiving                  18159 non-null  float64\n",
      " 55  GKHandling                18159 non-null  float64\n",
      " 56  GKKicking                 18159 non-null  float64\n",
      " 57  GKPositioning             18159 non-null  float64\n",
      " 58  GKReflexes                18159 non-null  float64\n",
      " 59  Release Clause            16643 non-null  object \n",
      "dtypes: float64(38), int64(4), object(18)\n",
      "memory usage: 8.3+ MB\n"
     ]
    }
   ],
   "execution_count": 220
  },
  {
   "metadata": {
    "ExecuteTime": {
     "end_time": "2024-11-03T16:36:56.867776Z",
     "start_time": "2024-11-03T16:36:56.858529Z"
    }
   },
   "cell_type": "code",
   "source": "fifa_var_info_df.info()\n",
   "id": "22905bfd9143a8fe",
   "outputs": [
    {
     "name": "stdout",
     "output_type": "stream",
     "text": [
      "<class 'pandas.core.frame.DataFrame'>\n",
      "RangeIndex: 59 entries, 0 to 58\n",
      "Data columns (total 2 columns):\n",
      " #   Column                      Non-Null Count  Dtype \n",
      "---  ------                      --------------  ----- \n",
      " 0   ID                          59 non-null     object\n",
      " 1   unique id for every player  59 non-null     object\n",
      "dtypes: object(2)\n",
      "memory usage: 1.1+ KB\n"
     ]
    }
   ],
   "execution_count": 221
  },
  {
   "metadata": {},
   "cell_type": "markdown",
   "source": [
    "# Drop redundant columns\n",
    "# 3. Drop the columns which you think redundant for the analysis. (1 point)"
   ],
   "id": "10087971e7fbc0e"
  },
  {
   "metadata": {
    "ExecuteTime": {
     "end_time": "2024-11-03T16:36:56.960587Z",
     "start_time": "2024-11-03T16:36:56.950797Z"
    }
   },
   "cell_type": "code",
   "source": [
    "\n",
    "\n",
    "fifa_data_df.drop(['Photo', 'Flag', 'Club Logo'], axis=1, inplace=True)\n"
   ],
   "id": "7bb4de88897f1303",
   "outputs": [],
   "execution_count": 222
  },
  {
   "metadata": {
    "ExecuteTime": {
     "end_time": "2024-11-03T16:36:57.063722Z",
     "start_time": "2024-11-03T16:36:57.043816Z"
    }
   },
   "cell_type": "code",
   "source": "fifa_data_df.head()\n",
   "id": "4ca975b7df8f540",
   "outputs": [
    {
     "data": {
      "text/plain": [
       "       ID               Name  Age Nationality  Overall  Potential  \\\n",
       "0  158023           L. Messi   31   Argentina       94         94   \n",
       "1   20801  Cristiano Ronaldo   33    Portugal       94         94   \n",
       "2  190871          Neymar Jr   26      Brazil       92         93   \n",
       "3  193080             De Gea   27       Spain       91         93   \n",
       "4  192985       K. De Bruyne   27     Belgium       91         92   \n",
       "\n",
       "                  Club    Value   Wage Preferred Foot  ...  Composure  \\\n",
       "0         FC Barcelona  €110.5M  €565K           Left  ...       96.0   \n",
       "1             Juventus     €77M  €405K          Right  ...       95.0   \n",
       "2  Paris Saint-Germain  €118.5M  €290K          Right  ...       94.0   \n",
       "3    Manchester United     €72M  €260K          Right  ...       68.0   \n",
       "4      Manchester City    €102M  €355K          Right  ...       88.0   \n",
       "\n",
       "   Marking  StandingTackle SlidingTackle GKDiving GKHandling  GKKicking  \\\n",
       "0     33.0            28.0          26.0      6.0       11.0       15.0   \n",
       "1     28.0            31.0          23.0      7.0       11.0       15.0   \n",
       "2     27.0            24.0          33.0      9.0        9.0       15.0   \n",
       "3     15.0            21.0          13.0     90.0       85.0       87.0   \n",
       "4     68.0            58.0          51.0     15.0       13.0        5.0   \n",
       "\n",
       "  GKPositioning GKReflexes Release Clause  \n",
       "0          14.0        8.0        €226.5M  \n",
       "1          14.0       11.0        €127.1M  \n",
       "2          15.0       11.0        €228.1M  \n",
       "3          88.0       94.0        €138.6M  \n",
       "4          10.0       13.0        €196.4M  \n",
       "\n",
       "[5 rows x 57 columns]"
      ],
      "text/html": [
       "<div>\n",
       "<style scoped>\n",
       "    .dataframe tbody tr th:only-of-type {\n",
       "        vertical-align: middle;\n",
       "    }\n",
       "\n",
       "    .dataframe tbody tr th {\n",
       "        vertical-align: top;\n",
       "    }\n",
       "\n",
       "    .dataframe thead th {\n",
       "        text-align: right;\n",
       "    }\n",
       "</style>\n",
       "<table border=\"1\" class=\"dataframe\">\n",
       "  <thead>\n",
       "    <tr style=\"text-align: right;\">\n",
       "      <th></th>\n",
       "      <th>ID</th>\n",
       "      <th>Name</th>\n",
       "      <th>Age</th>\n",
       "      <th>Nationality</th>\n",
       "      <th>Overall</th>\n",
       "      <th>Potential</th>\n",
       "      <th>Club</th>\n",
       "      <th>Value</th>\n",
       "      <th>Wage</th>\n",
       "      <th>Preferred Foot</th>\n",
       "      <th>...</th>\n",
       "      <th>Composure</th>\n",
       "      <th>Marking</th>\n",
       "      <th>StandingTackle</th>\n",
       "      <th>SlidingTackle</th>\n",
       "      <th>GKDiving</th>\n",
       "      <th>GKHandling</th>\n",
       "      <th>GKKicking</th>\n",
       "      <th>GKPositioning</th>\n",
       "      <th>GKReflexes</th>\n",
       "      <th>Release Clause</th>\n",
       "    </tr>\n",
       "  </thead>\n",
       "  <tbody>\n",
       "    <tr>\n",
       "      <th>0</th>\n",
       "      <td>158023</td>\n",
       "      <td>L. Messi</td>\n",
       "      <td>31</td>\n",
       "      <td>Argentina</td>\n",
       "      <td>94</td>\n",
       "      <td>94</td>\n",
       "      <td>FC Barcelona</td>\n",
       "      <td>€110.5M</td>\n",
       "      <td>€565K</td>\n",
       "      <td>Left</td>\n",
       "      <td>...</td>\n",
       "      <td>96.0</td>\n",
       "      <td>33.0</td>\n",
       "      <td>28.0</td>\n",
       "      <td>26.0</td>\n",
       "      <td>6.0</td>\n",
       "      <td>11.0</td>\n",
       "      <td>15.0</td>\n",
       "      <td>14.0</td>\n",
       "      <td>8.0</td>\n",
       "      <td>€226.5M</td>\n",
       "    </tr>\n",
       "    <tr>\n",
       "      <th>1</th>\n",
       "      <td>20801</td>\n",
       "      <td>Cristiano Ronaldo</td>\n",
       "      <td>33</td>\n",
       "      <td>Portugal</td>\n",
       "      <td>94</td>\n",
       "      <td>94</td>\n",
       "      <td>Juventus</td>\n",
       "      <td>€77M</td>\n",
       "      <td>€405K</td>\n",
       "      <td>Right</td>\n",
       "      <td>...</td>\n",
       "      <td>95.0</td>\n",
       "      <td>28.0</td>\n",
       "      <td>31.0</td>\n",
       "      <td>23.0</td>\n",
       "      <td>7.0</td>\n",
       "      <td>11.0</td>\n",
       "      <td>15.0</td>\n",
       "      <td>14.0</td>\n",
       "      <td>11.0</td>\n",
       "      <td>€127.1M</td>\n",
       "    </tr>\n",
       "    <tr>\n",
       "      <th>2</th>\n",
       "      <td>190871</td>\n",
       "      <td>Neymar Jr</td>\n",
       "      <td>26</td>\n",
       "      <td>Brazil</td>\n",
       "      <td>92</td>\n",
       "      <td>93</td>\n",
       "      <td>Paris Saint-Germain</td>\n",
       "      <td>€118.5M</td>\n",
       "      <td>€290K</td>\n",
       "      <td>Right</td>\n",
       "      <td>...</td>\n",
       "      <td>94.0</td>\n",
       "      <td>27.0</td>\n",
       "      <td>24.0</td>\n",
       "      <td>33.0</td>\n",
       "      <td>9.0</td>\n",
       "      <td>9.0</td>\n",
       "      <td>15.0</td>\n",
       "      <td>15.0</td>\n",
       "      <td>11.0</td>\n",
       "      <td>€228.1M</td>\n",
       "    </tr>\n",
       "    <tr>\n",
       "      <th>3</th>\n",
       "      <td>193080</td>\n",
       "      <td>De Gea</td>\n",
       "      <td>27</td>\n",
       "      <td>Spain</td>\n",
       "      <td>91</td>\n",
       "      <td>93</td>\n",
       "      <td>Manchester United</td>\n",
       "      <td>€72M</td>\n",
       "      <td>€260K</td>\n",
       "      <td>Right</td>\n",
       "      <td>...</td>\n",
       "      <td>68.0</td>\n",
       "      <td>15.0</td>\n",
       "      <td>21.0</td>\n",
       "      <td>13.0</td>\n",
       "      <td>90.0</td>\n",
       "      <td>85.0</td>\n",
       "      <td>87.0</td>\n",
       "      <td>88.0</td>\n",
       "      <td>94.0</td>\n",
       "      <td>€138.6M</td>\n",
       "    </tr>\n",
       "    <tr>\n",
       "      <th>4</th>\n",
       "      <td>192985</td>\n",
       "      <td>K. De Bruyne</td>\n",
       "      <td>27</td>\n",
       "      <td>Belgium</td>\n",
       "      <td>91</td>\n",
       "      <td>92</td>\n",
       "      <td>Manchester City</td>\n",
       "      <td>€102M</td>\n",
       "      <td>€355K</td>\n",
       "      <td>Right</td>\n",
       "      <td>...</td>\n",
       "      <td>88.0</td>\n",
       "      <td>68.0</td>\n",
       "      <td>58.0</td>\n",
       "      <td>51.0</td>\n",
       "      <td>15.0</td>\n",
       "      <td>13.0</td>\n",
       "      <td>5.0</td>\n",
       "      <td>10.0</td>\n",
       "      <td>13.0</td>\n",
       "      <td>€196.4M</td>\n",
       "    </tr>\n",
       "  </tbody>\n",
       "</table>\n",
       "<p>5 rows × 57 columns</p>\n",
       "</div>"
      ]
     },
     "execution_count": 223,
     "metadata": {},
     "output_type": "execute_result"
    }
   ],
   "execution_count": 223
  },
  {
   "metadata": {},
   "cell_type": "markdown",
   "source": [
    "# Data Cleaning and Preprocessing (18 points)\n",
    "4. Convert the columns \"Value\", \"Wage\", \"Release Clause\" to float datatype\n",
    "after getting rid of currency symbol and suffix. (6 points)\n",
    "- Note: When the record/entry has \"M\"(indicates millions) as suffix you\n",
    "need to multiply that value with 1000000\n",
    "- When the record/entry has \"K\"(indicates thousands) as suffix you\n",
    "need to multiply that value with 1000\n",
    "5. Convert the column \"Joined\" into integer data type with keeping only the\n",
    "year. (2 points)\n",
    "6. Convert the column \"Contract Valid Until\" to pandas datetime type. (2 points)\n",
    "7. The column 'Height' is in inches with a quotation mark, Convert to float\n",
    "with decimal points. (2 points)\n",
    "8. The column \"Weight\" has the suffix as lbs, remove the suffix and convert\n",
    "to float. (2 points)\n",
    "9. Check for the percentage of missing values and impute them with\n",
    "appropriate imputation techniques. (4 points)\n"
   ],
   "id": "311d2c714860753c"
  },
  {
   "metadata": {},
   "cell_type": "markdown",
   "source": [
    "# Convert currency columns to numeric\n",
    "# 4. Convert the columns \"Value\", \"Wage\", \"Release Clause\" to float datatype\n",
    "after getting rid of currency symbol and suffix. (6 points)\n",
    "- Note: When the record/entry has \"M\"(indicates millions) as suffix you\n",
    "need to multiply that value with 1000000\n",
    "- When the record/entry has \"K\"(indicates thousands) as suffix you\n",
    "need to multiply that value with 1000"
   ],
   "id": "2976deeb544e5a7c"
  },
  {
   "metadata": {
    "ExecuteTime": {
     "end_time": "2024-11-03T16:36:57.260299Z",
     "start_time": "2024-11-03T16:36:57.194518Z"
    }
   },
   "cell_type": "code",
   "source": [
    "def convert_currency(value):\n",
    "    # Check if the value is already a float\n",
    "    if isinstance(value, float):\n",
    "        return value\n",
    "\n",
    "    try:\n",
    "        value = value.replace('€', '').strip()  # Remove currency symbol\n",
    "        if 'M' in value:\n",
    "            return float(value.replace('M', '').strip()) * 1_000_000\n",
    "        elif 'K' in value:\n",
    "            return float(value.replace('K', '').strip()) * 1_000\n",
    "        else:\n",
    "            return float(value)\n",
    "    except ValueError:\n",
    "        print(f\"Error converting value: {value}\")\n",
    "        return None  # Or handle the error as needed\n",
    "\n",
    "for col in ['Value', 'Wage', 'Release Clause']:\n",
    "    fifa_data_df[col] = fifa_data_df[col].apply(convert_currency)\n"
   ],
   "id": "4c34eb2dddb27d0e",
   "outputs": [],
   "execution_count": 224
  },
  {
   "metadata": {},
   "cell_type": "markdown",
   "source": "# 5. Convert the column \"Joined\" into integer data type with keeping only the year. (2 points)",
   "id": "56b1eebd361699f1"
  },
  {
   "metadata": {
    "ExecuteTime": {
     "end_time": "2024-11-03T16:36:57.349513Z",
     "start_time": "2024-11-03T16:36:57.332332Z"
    }
   },
   "cell_type": "code",
   "source": "fifa_data_df['Joined'] = pd.to_datetime(fifa_data_df['Joined']).dt.year\n",
   "id": "92211ba3a17ff4b6",
   "outputs": [],
   "execution_count": 225
  },
  {
   "metadata": {},
   "cell_type": "markdown",
   "source": "# 6. Convert the column \"Contract Valid Until\" to pandas datetime type. (2 points)",
   "id": "97587966549fb782"
  },
  {
   "metadata": {
    "ExecuteTime": {
     "end_time": "2024-11-03T16:36:57.533679Z",
     "start_time": "2024-11-03T16:36:57.525039Z"
    }
   },
   "cell_type": "code",
   "source": [
    "import pandas as pd\n",
    "\n",
    "\n",
    "\n",
    "try:\n",
    "    # Attempt to convert with automatic format inference\n",
    "    fifa_data_df['Contract Valid Until'] = pd.to_datetime(\n",
    "        fifa_data_df['Contract Valid Until'],\n",
    "        errors='coerce',  # Convert invalid dates to NaT\n",
    "        infer_datetime_format=True  # Try to infer format\n",
    "    )\n",
    "except Exception as e:\n",
    "    print(f\"An error occurred: {e}\")\n",
    "\n",
    "# Optional: Check for NaT values\n",
    "if fifa_data_df['Contract Valid Until'].isnull().any():\n",
    "    print(\"There are some invalid date entries that were set to NaT.\")\n"
   ],
   "id": "e71cd6807bfca438",
   "outputs": [
    {
     "name": "stdout",
     "output_type": "stream",
     "text": [
      "There are some invalid date entries that were set to NaT.\n"
     ]
    }
   ],
   "execution_count": 226
  },
  {
   "metadata": {
    "ExecuteTime": {
     "end_time": "2024-11-03T16:36:57.617075Z",
     "start_time": "2024-11-03T16:36:57.602698Z"
    }
   },
   "cell_type": "code",
   "source": [
    "fifa_data_df['Contract Valid Until'] = pd.to_datetime(\n",
    "    fifa_data_df['Contract Valid Until'],\n",
    "    format='%b %d, %Y',  # Specify the date format explicitly\n",
    "    errors='coerce'\n",
    ")\n"
   ],
   "id": "2984c8878e1faa7c",
   "outputs": [],
   "execution_count": 227
  },
  {
   "metadata": {},
   "cell_type": "markdown",
   "source": "# 7. The column 'Height' is in inches with a quotation mark, Convert to float with decimal points. (2 points)",
   "id": "1e340022918bffc8"
  },
  {
   "metadata": {
    "ExecuteTime": {
     "end_time": "2024-11-03T16:36:57.729058Z",
     "start_time": "2024-11-03T16:36:57.699929Z"
    }
   },
   "cell_type": "code",
   "source": [
    "\n",
    "\n",
    "def convert_height_to_inches(height_str):\n",
    "    if pd.isna(height_str):  # Handle NaN values\n",
    "        return None\n",
    "    try:\n",
    "        height_str = height_str.replace('\"', '').strip()  # Remove quotes and strip whitespace\n",
    "        feet, inches = height_str.split(\"'\")  # Split by the apostrophe\n",
    "        total_inches = int(feet) * 12 + int(inches)  # Convert to total inches\n",
    "        return total_inches\n",
    "    except Exception as e:\n",
    "        print(f\"Error converting height '{height_str}': {e}\")\n",
    "        return None  # Return None for any invalid format\n",
    "\n",
    "# Apply the conversion function\n",
    "fifa_data_df['Height'] = fifa_data_df['Height'].apply(convert_height_to_inches)\n",
    "\n",
    "# Optional: Check for NaN values after conversion\n",
    "if fifa_data_df['Height'].isnull().any():\n",
    "    print(\"There are some invalid height entries that were set to NaN.\")\n"
   ],
   "id": "81b17d8006b567dc",
   "outputs": [
    {
     "name": "stdout",
     "output_type": "stream",
     "text": [
      "There are some invalid height entries that were set to NaN.\n"
     ]
    }
   ],
   "execution_count": 228
  },
  {
   "metadata": {},
   "cell_type": "markdown",
   "source": "# 8. The column \"Weight\" has the suffix as lbs, remove the suffix and convert to float. (2 points)",
   "id": "10929e0a5270efd1"
  },
  {
   "metadata": {
    "ExecuteTime": {
     "end_time": "2024-11-03T16:36:57.822958Z",
     "start_time": "2024-11-03T16:36:57.809476Z"
    }
   },
   "cell_type": "code",
   "source": "fifa_data_df['Weight'] = fifa_data_df['Weight'].str.replace('lbs', '').astype(float)\n",
   "id": "7f24915488a93e7e",
   "outputs": [],
   "execution_count": 229
  },
  {
   "metadata": {},
   "cell_type": "markdown",
   "source": "# 9. Check for the percentage of missing values and impute them with appropriate imputation techniques. (4 points)",
   "id": "47d125f4a3da0803"
  },
  {
   "metadata": {
    "ExecuteTime": {
     "end_time": "2024-11-03T16:36:57.923356Z",
     "start_time": "2024-11-03T16:36:57.906460Z"
    }
   },
   "cell_type": "code",
   "source": [
    "import pandas as pd\n",
    "\n",
    "# Calculate and print the percentage of missing values\n",
    "missing_percentage = fifa_data_df.isnull().mean() * 100\n",
    "print(\"Missing Percentage:\\n\", missing_percentage[missing_percentage > 0])\n",
    "\n",
    "# Impute missing values in the 'Wage' column with the median\n",
    "fifa_data_df['Wage'] = fifa_data_df['Wage'].fillna(fifa_data_df['Wage'].median())\n",
    "\n",
    "# Optional: Verify the imputation\n",
    "print(\"\\nWage column after imputation:\")\n",
    "print(fifa_data_df['Wage'])\n"
   ],
   "id": "78eeef307d5e8199",
   "outputs": [
    {
     "name": "stdout",
     "output_type": "stream",
     "text": [
      "Missing Percentage:\n",
      " Club                         1.323667\n",
      "Preferred Foot               0.263635\n",
      "International Reputation     0.263635\n",
      "Weak Foot                    0.263635\n",
      "Skill Moves                  0.263635\n",
      "Work Rate                    0.263635\n",
      "Body Type                    0.263635\n",
      "Position                     0.329544\n",
      "Jersey Number                0.329544\n",
      "Joined                       8.529686\n",
      "Loaned From                 93.057615\n",
      "Contract Valid Until         8.529686\n",
      "Height                       0.263635\n",
      "Weight                       0.263635\n",
      "Crossing                     0.263635\n",
      "Finishing                    0.263635\n",
      "HeadingAccuracy              0.263635\n",
      "ShortPassing                 0.263635\n",
      "Volleys                      0.263635\n",
      "Dribbling                    0.263635\n",
      "Curve                        0.263635\n",
      "FKAccuracy                   0.263635\n",
      "LongPassing                  0.263635\n",
      "BallControl                  0.263635\n",
      "Acceleration                 0.263635\n",
      "SprintSpeed                  0.263635\n",
      "Agility                      0.263635\n",
      "Reactions                    0.263635\n",
      "Balance                      0.263635\n",
      "ShotPower                    0.263635\n",
      "Jumping                      0.263635\n",
      "Stamina                      0.263635\n",
      "Strength                     0.263635\n",
      "LongShots                    0.263635\n",
      "Aggression                   0.263635\n",
      "Interceptions                0.263635\n",
      "Positioning                  0.263635\n",
      "Vision                       0.263635\n",
      "Penalties                    0.263635\n",
      "Composure                    0.263635\n",
      "Marking                      0.263635\n",
      "StandingTackle               0.263635\n",
      "SlidingTackle                0.263635\n",
      "GKDiving                     0.263635\n",
      "GKHandling                   0.263635\n",
      "GKKicking                    0.263635\n",
      "GKPositioning                0.263635\n",
      "GKReflexes                   0.263635\n",
      "Release Clause               8.590103\n",
      "dtype: float64\n",
      "\n",
      "Wage column after imputation:\n",
      "0        565000.0\n",
      "1        405000.0\n",
      "2        290000.0\n",
      "3        260000.0\n",
      "4        355000.0\n",
      "           ...   \n",
      "18202      1000.0\n",
      "18203      1000.0\n",
      "18204      1000.0\n",
      "18205      1000.0\n",
      "18206      1000.0\n",
      "Name: Wage, Length: 18207, dtype: float64\n"
     ]
    }
   ],
   "execution_count": 230
  },
  {
   "metadata": {
    "ExecuteTime": {
     "end_time": "2024-11-03T16:36:58.028311Z",
     "start_time": "2024-11-03T16:36:58.007576Z"
    }
   },
   "cell_type": "code",
   "source": "fifa_data_df.head()\n",
   "id": "c82a6d53bec09187",
   "outputs": [
    {
     "data": {
      "text/plain": [
       "       ID               Name  Age Nationality  Overall  Potential  \\\n",
       "0  158023           L. Messi   31   Argentina       94         94   \n",
       "1   20801  Cristiano Ronaldo   33    Portugal       94         94   \n",
       "2  190871          Neymar Jr   26      Brazil       92         93   \n",
       "3  193080             De Gea   27       Spain       91         93   \n",
       "4  192985       K. De Bruyne   27     Belgium       91         92   \n",
       "\n",
       "                  Club        Value      Wage Preferred Foot  ...  Composure  \\\n",
       "0         FC Barcelona  110500000.0  565000.0           Left  ...       96.0   \n",
       "1             Juventus   77000000.0  405000.0          Right  ...       95.0   \n",
       "2  Paris Saint-Germain  118500000.0  290000.0          Right  ...       94.0   \n",
       "3    Manchester United   72000000.0  260000.0          Right  ...       68.0   \n",
       "4      Manchester City  102000000.0  355000.0          Right  ...       88.0   \n",
       "\n",
       "   Marking  StandingTackle SlidingTackle GKDiving GKHandling  GKKicking  \\\n",
       "0     33.0            28.0          26.0      6.0       11.0       15.0   \n",
       "1     28.0            31.0          23.0      7.0       11.0       15.0   \n",
       "2     27.0            24.0          33.0      9.0        9.0       15.0   \n",
       "3     15.0            21.0          13.0     90.0       85.0       87.0   \n",
       "4     68.0            58.0          51.0     15.0       13.0        5.0   \n",
       "\n",
       "   GKPositioning GKReflexes Release Clause  \n",
       "0           14.0        8.0    226500000.0  \n",
       "1           14.0       11.0    127100000.0  \n",
       "2           15.0       11.0    228100000.0  \n",
       "3           88.0       94.0    138600000.0  \n",
       "4           10.0       13.0    196400000.0  \n",
       "\n",
       "[5 rows x 57 columns]"
      ],
      "text/html": [
       "<div>\n",
       "<style scoped>\n",
       "    .dataframe tbody tr th:only-of-type {\n",
       "        vertical-align: middle;\n",
       "    }\n",
       "\n",
       "    .dataframe tbody tr th {\n",
       "        vertical-align: top;\n",
       "    }\n",
       "\n",
       "    .dataframe thead th {\n",
       "        text-align: right;\n",
       "    }\n",
       "</style>\n",
       "<table border=\"1\" class=\"dataframe\">\n",
       "  <thead>\n",
       "    <tr style=\"text-align: right;\">\n",
       "      <th></th>\n",
       "      <th>ID</th>\n",
       "      <th>Name</th>\n",
       "      <th>Age</th>\n",
       "      <th>Nationality</th>\n",
       "      <th>Overall</th>\n",
       "      <th>Potential</th>\n",
       "      <th>Club</th>\n",
       "      <th>Value</th>\n",
       "      <th>Wage</th>\n",
       "      <th>Preferred Foot</th>\n",
       "      <th>...</th>\n",
       "      <th>Composure</th>\n",
       "      <th>Marking</th>\n",
       "      <th>StandingTackle</th>\n",
       "      <th>SlidingTackle</th>\n",
       "      <th>GKDiving</th>\n",
       "      <th>GKHandling</th>\n",
       "      <th>GKKicking</th>\n",
       "      <th>GKPositioning</th>\n",
       "      <th>GKReflexes</th>\n",
       "      <th>Release Clause</th>\n",
       "    </tr>\n",
       "  </thead>\n",
       "  <tbody>\n",
       "    <tr>\n",
       "      <th>0</th>\n",
       "      <td>158023</td>\n",
       "      <td>L. Messi</td>\n",
       "      <td>31</td>\n",
       "      <td>Argentina</td>\n",
       "      <td>94</td>\n",
       "      <td>94</td>\n",
       "      <td>FC Barcelona</td>\n",
       "      <td>110500000.0</td>\n",
       "      <td>565000.0</td>\n",
       "      <td>Left</td>\n",
       "      <td>...</td>\n",
       "      <td>96.0</td>\n",
       "      <td>33.0</td>\n",
       "      <td>28.0</td>\n",
       "      <td>26.0</td>\n",
       "      <td>6.0</td>\n",
       "      <td>11.0</td>\n",
       "      <td>15.0</td>\n",
       "      <td>14.0</td>\n",
       "      <td>8.0</td>\n",
       "      <td>226500000.0</td>\n",
       "    </tr>\n",
       "    <tr>\n",
       "      <th>1</th>\n",
       "      <td>20801</td>\n",
       "      <td>Cristiano Ronaldo</td>\n",
       "      <td>33</td>\n",
       "      <td>Portugal</td>\n",
       "      <td>94</td>\n",
       "      <td>94</td>\n",
       "      <td>Juventus</td>\n",
       "      <td>77000000.0</td>\n",
       "      <td>405000.0</td>\n",
       "      <td>Right</td>\n",
       "      <td>...</td>\n",
       "      <td>95.0</td>\n",
       "      <td>28.0</td>\n",
       "      <td>31.0</td>\n",
       "      <td>23.0</td>\n",
       "      <td>7.0</td>\n",
       "      <td>11.0</td>\n",
       "      <td>15.0</td>\n",
       "      <td>14.0</td>\n",
       "      <td>11.0</td>\n",
       "      <td>127100000.0</td>\n",
       "    </tr>\n",
       "    <tr>\n",
       "      <th>2</th>\n",
       "      <td>190871</td>\n",
       "      <td>Neymar Jr</td>\n",
       "      <td>26</td>\n",
       "      <td>Brazil</td>\n",
       "      <td>92</td>\n",
       "      <td>93</td>\n",
       "      <td>Paris Saint-Germain</td>\n",
       "      <td>118500000.0</td>\n",
       "      <td>290000.0</td>\n",
       "      <td>Right</td>\n",
       "      <td>...</td>\n",
       "      <td>94.0</td>\n",
       "      <td>27.0</td>\n",
       "      <td>24.0</td>\n",
       "      <td>33.0</td>\n",
       "      <td>9.0</td>\n",
       "      <td>9.0</td>\n",
       "      <td>15.0</td>\n",
       "      <td>15.0</td>\n",
       "      <td>11.0</td>\n",
       "      <td>228100000.0</td>\n",
       "    </tr>\n",
       "    <tr>\n",
       "      <th>3</th>\n",
       "      <td>193080</td>\n",
       "      <td>De Gea</td>\n",
       "      <td>27</td>\n",
       "      <td>Spain</td>\n",
       "      <td>91</td>\n",
       "      <td>93</td>\n",
       "      <td>Manchester United</td>\n",
       "      <td>72000000.0</td>\n",
       "      <td>260000.0</td>\n",
       "      <td>Right</td>\n",
       "      <td>...</td>\n",
       "      <td>68.0</td>\n",
       "      <td>15.0</td>\n",
       "      <td>21.0</td>\n",
       "      <td>13.0</td>\n",
       "      <td>90.0</td>\n",
       "      <td>85.0</td>\n",
       "      <td>87.0</td>\n",
       "      <td>88.0</td>\n",
       "      <td>94.0</td>\n",
       "      <td>138600000.0</td>\n",
       "    </tr>\n",
       "    <tr>\n",
       "      <th>4</th>\n",
       "      <td>192985</td>\n",
       "      <td>K. De Bruyne</td>\n",
       "      <td>27</td>\n",
       "      <td>Belgium</td>\n",
       "      <td>91</td>\n",
       "      <td>92</td>\n",
       "      <td>Manchester City</td>\n",
       "      <td>102000000.0</td>\n",
       "      <td>355000.0</td>\n",
       "      <td>Right</td>\n",
       "      <td>...</td>\n",
       "      <td>88.0</td>\n",
       "      <td>68.0</td>\n",
       "      <td>58.0</td>\n",
       "      <td>51.0</td>\n",
       "      <td>15.0</td>\n",
       "      <td>13.0</td>\n",
       "      <td>5.0</td>\n",
       "      <td>10.0</td>\n",
       "      <td>13.0</td>\n",
       "      <td>196400000.0</td>\n",
       "    </tr>\n",
       "  </tbody>\n",
       "</table>\n",
       "<p>5 rows × 57 columns</p>\n",
       "</div>"
      ]
     },
     "execution_count": 231,
     "metadata": {},
     "output_type": "execute_result"
    }
   ],
   "execution_count": 231
  },
  {
   "metadata": {
    "ExecuteTime": {
     "end_time": "2024-11-03T16:36:58.175790Z",
     "start_time": "2024-11-03T16:36:58.169890Z"
    }
   },
   "cell_type": "code",
   "source": "fifa_data_df.shape\n",
   "id": "99ed4a9c06ebb3b2",
   "outputs": [
    {
     "data": {
      "text/plain": [
       "(18207, 57)"
      ]
     },
     "execution_count": 232,
     "metadata": {},
     "output_type": "execute_result"
    }
   ],
   "execution_count": 232
  },
  {
   "metadata": {
    "ExecuteTime": {
     "end_time": "2024-11-03T16:36:58.283578Z",
     "start_time": "2024-11-03T16:36:58.261940Z"
    }
   },
   "cell_type": "code",
   "source": "fifa_data_df.info()\n",
   "id": "8d27fb6d078aa77f",
   "outputs": [
    {
     "name": "stdout",
     "output_type": "stream",
     "text": [
      "<class 'pandas.core.frame.DataFrame'>\n",
      "RangeIndex: 18207 entries, 0 to 18206\n",
      "Data columns (total 57 columns):\n",
      " #   Column                    Non-Null Count  Dtype         \n",
      "---  ------                    --------------  -----         \n",
      " 0   ID                        18207 non-null  int64         \n",
      " 1   Name                      18207 non-null  object        \n",
      " 2   Age                       18207 non-null  int64         \n",
      " 3   Nationality               18207 non-null  object        \n",
      " 4   Overall                   18207 non-null  int64         \n",
      " 5   Potential                 18207 non-null  int64         \n",
      " 6   Club                      17966 non-null  object        \n",
      " 7   Value                     18207 non-null  float64       \n",
      " 8   Wage                      18207 non-null  float64       \n",
      " 9   Preferred Foot            18159 non-null  object        \n",
      " 10  International Reputation  18159 non-null  float64       \n",
      " 11  Weak Foot                 18159 non-null  float64       \n",
      " 12  Skill Moves               18159 non-null  float64       \n",
      " 13  Work Rate                 18159 non-null  object        \n",
      " 14  Body Type                 18159 non-null  object        \n",
      " 15  Position                  18147 non-null  object        \n",
      " 16  Jersey Number             18147 non-null  float64       \n",
      " 17  Joined                    16654 non-null  float64       \n",
      " 18  Loaned From               1264 non-null   object        \n",
      " 19  Contract Valid Until      16654 non-null  datetime64[ns]\n",
      " 20  Height                    18159 non-null  float64       \n",
      " 21  Weight                    18159 non-null  float64       \n",
      " 22  Crossing                  18159 non-null  float64       \n",
      " 23  Finishing                 18159 non-null  float64       \n",
      " 24  HeadingAccuracy           18159 non-null  float64       \n",
      " 25  ShortPassing              18159 non-null  float64       \n",
      " 26  Volleys                   18159 non-null  float64       \n",
      " 27  Dribbling                 18159 non-null  float64       \n",
      " 28  Curve                     18159 non-null  float64       \n",
      " 29  FKAccuracy                18159 non-null  float64       \n",
      " 30  LongPassing               18159 non-null  float64       \n",
      " 31  BallControl               18159 non-null  float64       \n",
      " 32  Acceleration              18159 non-null  float64       \n",
      " 33  SprintSpeed               18159 non-null  float64       \n",
      " 34  Agility                   18159 non-null  float64       \n",
      " 35  Reactions                 18159 non-null  float64       \n",
      " 36  Balance                   18159 non-null  float64       \n",
      " 37  ShotPower                 18159 non-null  float64       \n",
      " 38  Jumping                   18159 non-null  float64       \n",
      " 39  Stamina                   18159 non-null  float64       \n",
      " 40  Strength                  18159 non-null  float64       \n",
      " 41  LongShots                 18159 non-null  float64       \n",
      " 42  Aggression                18159 non-null  float64       \n",
      " 43  Interceptions             18159 non-null  float64       \n",
      " 44  Positioning               18159 non-null  float64       \n",
      " 45  Vision                    18159 non-null  float64       \n",
      " 46  Penalties                 18159 non-null  float64       \n",
      " 47  Composure                 18159 non-null  float64       \n",
      " 48  Marking                   18159 non-null  float64       \n",
      " 49  StandingTackle            18159 non-null  float64       \n",
      " 50  SlidingTackle             18159 non-null  float64       \n",
      " 51  GKDiving                  18159 non-null  float64       \n",
      " 52  GKHandling                18159 non-null  float64       \n",
      " 53  GKKicking                 18159 non-null  float64       \n",
      " 54  GKPositioning             18159 non-null  float64       \n",
      " 55  GKReflexes                18159 non-null  float64       \n",
      " 56  Release Clause            16643 non-null  float64       \n",
      "dtypes: datetime64[ns](1), float64(44), int64(4), object(8)\n",
      "memory usage: 7.9+ MB\n"
     ]
    }
   ],
   "execution_count": 233
  },
  {
   "metadata": {},
   "cell_type": "markdown",
   "source": [
    "# Exploratory Data Analysis (28 points)\n",
    "10. Plot the distribution of Overall rating for all the players and write your\n",
    "findings. (2 points)\n",
    "11. Retrieve the names of top20 players based on the Overall rating. (2 points)\n",
    "12. Generate a dataframe which should include all the information of the\n",
    "Top 20 players based on the Overall rating. (4 points)\n",
    "13. What is the average \"Age\" and \"Wage\" of these top 20 players? (use\n",
    "the data frame created in the question 11) (2 points)\n",
    "14. Among the top 20 players based on the Overall rating, which player has\n",
    "the highest wage? Display the name of the player with his wage. (2 points)\n",
    "15. Generate a dataframe which should include the \"Player name\", \"Club\n",
    "Name\", \"Wage\", and 'Overall rating'. (4 Points)\n",
    "- i) find the average Overall rating for each club.\n",
    "- ii) Display the average overall rating of Top10 Clubs using a plot\n",
    "16. What is the relationship between age and individual potential of the\n",
    "player? Visualize the relationship with appropriate plot and Comment on\n",
    "the same. (2 points)\n",
    "17. Which features directly contribute to the wages of the players?\n",
    "Support your answer with a plot and a metric. (2 points) (hint: use\n",
    "potential, Overall, value, international reputation, and Release Clause)\n",
    "18. Find the position in the pitch where the maximum number of players\n",
    "play and the position where the minimum number of players play? Display\n",
    "it using a plot. (2 points)\n",
    "19. How many players are from the club 'Juventus' and the wage is greater\n",
    "than 200K? Display all the information of such players. (2 points)\n",
    "20. Generate a data frame containing top 5 players by Overall rating for\n",
    "each unique position. (2 Points)\n",
    "21. What is the average wage one can expect to pay for the top 5 players\n",
    "in every position? (use the data frame created in Q19) (2 points)"
   ],
   "id": "77c23c595bfd4ebc"
  },
  {
   "metadata": {},
   "cell_type": "markdown",
   "source": "# 10. Plot the distribution of Overall rating for all the players and write your findings. (2 points)",
   "id": "cb16039ed4de31b5"
  },
  {
   "metadata": {
    "ExecuteTime": {
     "end_time": "2024-11-03T16:36:58.765944Z",
     "start_time": "2024-11-03T16:36:58.506787Z"
    }
   },
   "cell_type": "code",
   "source": [
    "plt.figure(figsize=(10, 6))\n",
    "sns.histplot(fifa_data_df['Overall'], bins=30, kde=True)\n",
    "plt.title('Distribution of Overall Rating')\n",
    "plt.xlabel('Overall Rating')\n",
    "plt.ylabel('Frequency')\n",
    "plt.show()\n"
   ],
   "id": "533d8844cd08f8e8",
   "outputs": [
    {
     "data": {
      "text/plain": [
       "<Figure size 1000x600 with 1 Axes>"
      ],
      "image/png": "[encoded data removed]"
     },
     "metadata": {},
     "output_type": "display_data"
    }
   ],
   "execution_count": 234
  },
  {
   "metadata": {
    "ExecuteTime": {
     "end_time": "2024-11-03T16:36:58.817978Z",
     "start_time": "2024-11-03T16:36:58.801963Z"
    }
   },
   "cell_type": "code",
   "source": "fifa_data_df.info()",
   "id": "bc590b6c55a4a0fb",
   "outputs": [
    {
     "name": "stdout",
     "output_type": "stream",
     "text": [
      "<class 'pandas.core.frame.DataFrame'>\n",
      "RangeIndex: 18207 entries, 0 to 18206\n",
      "Data columns (total 57 columns):\n",
      " #   Column                    Non-Null Count  Dtype         \n",
      "---  ------                    --------------  -----         \n",
      " 0   ID                        18207 non-null  int64         \n",
      " 1   Name                      18207 non-null  object        \n",
      " 2   Age                       18207 non-null  int64         \n",
      " 3   Nationality               18207 non-null  object        \n",
      " 4   Overall                   18207 non-null  int64         \n",
      " 5   Potential                 18207 non-null  int64         \n",
      " 6   Club                      17966 non-null  object        \n",
      " 7   Value                     18207 non-null  float64       \n",
      " 8   Wage                      18207 non-null  float64       \n",
      " 9   Preferred Foot            18159 non-null  object        \n",
      " 10  International Reputation  18159 non-null  float64       \n",
      " 11  Weak Foot                 18159 non-null  float64       \n",
      " 12  Skill Moves               18159 non-null  float64       \n",
      " 13  Work Rate                 18159 non-null  object        \n",
      " 14  Body Type                 18159 non-null  object        \n",
      " 15  Position                  18147 non-null  object        \n",
      " 16  Jersey Number             18147 non-null  float64       \n",
      " 17  Joined                    16654 non-null  float64       \n",
      " 18  Loaned From               1264 non-null   object        \n",
      " 19  Contract Valid Until      16654 non-null  datetime64[ns]\n",
      " 20  Height                    18159 non-null  float64       \n",
      " 21  Weight                    18159 non-null  float64       \n",
      " 22  Crossing                  18159 non-null  float64       \n",
      " 23  Finishing                 18159 non-null  float64       \n",
      " 24  HeadingAccuracy           18159 non-null  float64       \n",
      " 25  ShortPassing              18159 non-null  float64       \n",
      " 26  Volleys                   18159 non-null  float64       \n",
      " 27  Dribbling                 18159 non-null  float64       \n",
      " 28  Curve                     18159 non-null  float64       \n",
      " 29  FKAccuracy                18159 non-null  float64       \n",
      " 30  LongPassing               18159 non-null  float64       \n",
      " 31  BallControl               18159 non-null  float64       \n",
      " 32  Acceleration              18159 non-null  float64       \n",
      " 33  SprintSpeed               18159 non-null  float64       \n",
      " 34  Agility                   18159 non-null  float64       \n",
      " 35  Reactions                 18159 non-null  float64       \n",
      " 36  Balance                   18159 non-null  float64       \n",
      " 37  ShotPower                 18159 non-null  float64       \n",
      " 38  Jumping                   18159 non-null  float64       \n",
      " 39  Stamina                   18159 non-null  float64       \n",
      " 40  Strength                  18159 non-null  float64       \n",
      " 41  LongShots                 18159 non-null  float64       \n",
      " 42  Aggression                18159 non-null  float64       \n",
      " 43  Interceptions             18159 non-null  float64       \n",
      " 44  Positioning               18159 non-null  float64       \n",
      " 45  Vision                    18159 non-null  float64       \n",
      " 46  Penalties                 18159 non-null  float64       \n",
      " 47  Composure                 18159 non-null  float64       \n",
      " 48  Marking                   18159 non-null  float64       \n",
      " 49  StandingTackle            18159 non-null  float64       \n",
      " 50  SlidingTackle             18159 non-null  float64       \n",
      " 51  GKDiving                  18159 non-null  float64       \n",
      " 52  GKHandling                18159 non-null  float64       \n",
      " 53  GKKicking                 18159 non-null  float64       \n",
      " 54  GKPositioning             18159 non-null  float64       \n",
      " 55  GKReflexes                18159 non-null  float64       \n",
      " 56  Release Clause            16643 non-null  float64       \n",
      "dtypes: datetime64[ns](1), float64(44), int64(4), object(8)\n",
      "memory usage: 7.9+ MB\n"
     ]
    }
   ],
   "execution_count": 235
  },
  {
   "metadata": {},
   "cell_type": "markdown",
   "source": "# 11. Retrieve the names of top20 players based on the Overall rating. (2 points)",
   "id": "7145786755f7c72c"
  },
  {
   "metadata": {
    "ExecuteTime": {
     "end_time": "2024-11-03T16:36:58.925166Z",
     "start_time": "2024-11-03T16:36:58.906299Z"
    }
   },
   "cell_type": "code",
   "source": [
    "top_20_players = fifa_data_df.nlargest(20, 'Overall')\n",
    "print(top_20_players[['Name', 'Overall']])\n"
   ],
   "id": "3fb56d43afedbfe5",
   "outputs": [
    {
     "name": "stdout",
     "output_type": "stream",
     "text": [
      "                 Name  Overall\n",
      "0            L. Messi       94\n",
      "1   Cristiano Ronaldo       94\n",
      "2           Neymar Jr       92\n",
      "3              De Gea       91\n",
      "4        K. De Bruyne       91\n",
      "5           E. Hazard       91\n",
      "6           L. Modrić       91\n",
      "7           L. Suárez       91\n",
      "8        Sergio Ramos       91\n",
      "9            J. Oblak       90\n",
      "10     R. Lewandowski       90\n",
      "11           T. Kroos       90\n",
      "12           D. Godín       90\n",
      "13        David Silva       90\n",
      "14           N. Kanté       89\n",
      "15          P. Dybala       89\n",
      "16            H. Kane       89\n",
      "17       A. Griezmann       89\n",
      "18      M. ter Stegen       89\n",
      "19        T. Courtois       89\n"
     ]
    }
   ],
   "execution_count": 236
  },
  {
   "metadata": {
    "ExecuteTime": {
     "end_time": "2024-11-03T16:36:59.038654Z",
     "start_time": "2024-11-03T16:36:59.017325Z"
    }
   },
   "cell_type": "code",
   "source": [
    "top_20_df = top_20_players.copy()\n",
    "top_20_df.head()\n"
   ],
   "id": "826714f05403bdbf",
   "outputs": [
    {
     "data": {
      "text/plain": [
       "       ID               Name  Age Nationality  Overall  Potential  \\\n",
       "0  158023           L. Messi   31   Argentina       94         94   \n",
       "1   20801  Cristiano Ronaldo   33    Portugal       94         94   \n",
       "2  190871          Neymar Jr   26      Brazil       92         93   \n",
       "3  193080             De Gea   27       Spain       91         93   \n",
       "4  192985       K. De Bruyne   27     Belgium       91         92   \n",
       "\n",
       "                  Club        Value      Wage Preferred Foot  ...  Composure  \\\n",
       "0         FC Barcelona  110500000.0  565000.0           Left  ...       96.0   \n",
       "1             Juventus   77000000.0  405000.0          Right  ...       95.0   \n",
       "2  Paris Saint-Germain  118500000.0  290000.0          Right  ...       94.0   \n",
       "3    Manchester United   72000000.0  260000.0          Right  ...       68.0   \n",
       "4      Manchester City  102000000.0  355000.0          Right  ...       88.0   \n",
       "\n",
       "   Marking  StandingTackle SlidingTackle GKDiving GKHandling  GKKicking  \\\n",
       "0     33.0            28.0          26.0      6.0       11.0       15.0   \n",
       "1     28.0            31.0          23.0      7.0       11.0       15.0   \n",
       "2     27.0            24.0          33.0      9.0        9.0       15.0   \n",
       "3     15.0            21.0          13.0     90.0       85.0       87.0   \n",
       "4     68.0            58.0          51.0     15.0       13.0        5.0   \n",
       "\n",
       "   GKPositioning GKReflexes Release Clause  \n",
       "0           14.0        8.0    226500000.0  \n",
       "1           14.0       11.0    127100000.0  \n",
       "2           15.0       11.0    228100000.0  \n",
       "3           88.0       94.0    138600000.0  \n",
       "4           10.0       13.0    196400000.0  \n",
       "\n",
       "[5 rows x 57 columns]"
      ],
      "text/html": [
       "<div>\n",
       "<style scoped>\n",
       "    .dataframe tbody tr th:only-of-type {\n",
       "        vertical-align: middle;\n",
       "    }\n",
       "\n",
       "    .dataframe tbody tr th {\n",
       "        vertical-align: top;\n",
       "    }\n",
       "\n",
       "    .dataframe thead th {\n",
       "        text-align: right;\n",
       "    }\n",
       "</style>\n",
       "<table border=\"1\" class=\"dataframe\">\n",
       "  <thead>\n",
       "    <tr style=\"text-align: right;\">\n",
       "      <th></th>\n",
       "      <th>ID</th>\n",
       "      <th>Name</th>\n",
       "      <th>Age</th>\n",
       "      <th>Nationality</th>\n",
       "      <th>Overall</th>\n",
       "      <th>Potential</th>\n",
       "      <th>Club</th>\n",
       "      <th>Value</th>\n",
       "      <th>Wage</th>\n",
       "      <th>Preferred Foot</th>\n",
       "      <th>...</th>\n",
       "      <th>Composure</th>\n",
       "      <th>Marking</th>\n",
       "      <th>StandingTackle</th>\n",
       "      <th>SlidingTackle</th>\n",
       "      <th>GKDiving</th>\n",
       "      <th>GKHandling</th>\n",
       "      <th>GKKicking</th>\n",
       "      <th>GKPositioning</th>\n",
       "      <th>GKReflexes</th>\n",
       "      <th>Release Clause</th>\n",
       "    </tr>\n",
       "  </thead>\n",
       "  <tbody>\n",
       "    <tr>\n",
       "      <th>0</th>\n",
       "      <td>158023</td>\n",
       "      <td>L. Messi</td>\n",
       "      <td>31</td>\n",
       "      <td>Argentina</td>\n",
       "      <td>94</td>\n",
       "      <td>94</td>\n",
       "      <td>FC Barcelona</td>\n",
       "      <td>110500000.0</td>\n",
       "      <td>565000.0</td>\n",
       "      <td>Left</td>\n",
       "      <td>...</td>\n",
       "      <td>96.0</td>\n",
       "      <td>33.0</td>\n",
       "      <td>28.0</td>\n",
       "      <td>26.0</td>\n",
       "      <td>6.0</td>\n",
       "      <td>11.0</td>\n",
       "      <td>15.0</td>\n",
       "      <td>14.0</td>\n",
       "      <td>8.0</td>\n",
       "      <td>226500000.0</td>\n",
       "    </tr>\n",
       "    <tr>\n",
       "      <th>1</th>\n",
       "      <td>20801</td>\n",
       "      <td>Cristiano Ronaldo</td>\n",
       "      <td>33</td>\n",
       "      <td>Portugal</td>\n",
       "      <td>94</td>\n",
       "      <td>94</td>\n",
       "      <td>Juventus</td>\n",
       "      <td>77000000.0</td>\n",
       "      <td>405000.0</td>\n",
       "      <td>Right</td>\n",
       "      <td>...</td>\n",
       "      <td>95.0</td>\n",
       "      <td>28.0</td>\n",
       "      <td>31.0</td>\n",
       "      <td>23.0</td>\n",
       "      <td>7.0</td>\n",
       "      <td>11.0</td>\n",
       "      <td>15.0</td>\n",
       "      <td>14.0</td>\n",
       "      <td>11.0</td>\n",
       "      <td>127100000.0</td>\n",
       "    </tr>\n",
       "    <tr>\n",
       "      <th>2</th>\n",
       "      <td>190871</td>\n",
       "      <td>Neymar Jr</td>\n",
       "      <td>26</td>\n",
       "      <td>Brazil</td>\n",
       "      <td>92</td>\n",
       "      <td>93</td>\n",
       "      <td>Paris Saint-Germain</td>\n",
       "      <td>118500000.0</td>\n",
       "      <td>290000.0</td>\n",
       "      <td>Right</td>\n",
       "      <td>...</td>\n",
       "      <td>94.0</td>\n",
       "      <td>27.0</td>\n",
       "      <td>24.0</td>\n",
       "      <td>33.0</td>\n",
       "      <td>9.0</td>\n",
       "      <td>9.0</td>\n",
       "      <td>15.0</td>\n",
       "      <td>15.0</td>\n",
       "      <td>11.0</td>\n",
       "      <td>228100000.0</td>\n",
       "    </tr>\n",
       "    <tr>\n",
       "      <th>3</th>\n",
       "      <td>193080</td>\n",
       "      <td>De Gea</td>\n",
       "      <td>27</td>\n",
       "      <td>Spain</td>\n",
       "      <td>91</td>\n",
       "      <td>93</td>\n",
       "      <td>Manchester United</td>\n",
       "      <td>72000000.0</td>\n",
       "      <td>260000.0</td>\n",
       "      <td>Right</td>\n",
       "      <td>...</td>\n",
       "      <td>68.0</td>\n",
       "      <td>15.0</td>\n",
       "      <td>21.0</td>\n",
       "      <td>13.0</td>\n",
       "      <td>90.0</td>\n",
       "      <td>85.0</td>\n",
       "      <td>87.0</td>\n",
       "      <td>88.0</td>\n",
       "      <td>94.0</td>\n",
       "      <td>138600000.0</td>\n",
       "    </tr>\n",
       "    <tr>\n",
       "      <th>4</th>\n",
       "      <td>192985</td>\n",
       "      <td>K. De Bruyne</td>\n",
       "      <td>27</td>\n",
       "      <td>Belgium</td>\n",
       "      <td>91</td>\n",
       "      <td>92</td>\n",
       "      <td>Manchester City</td>\n",
       "      <td>102000000.0</td>\n",
       "      <td>355000.0</td>\n",
       "      <td>Right</td>\n",
       "      <td>...</td>\n",
       "      <td>88.0</td>\n",
       "      <td>68.0</td>\n",
       "      <td>58.0</td>\n",
       "      <td>51.0</td>\n",
       "      <td>15.0</td>\n",
       "      <td>13.0</td>\n",
       "      <td>5.0</td>\n",
       "      <td>10.0</td>\n",
       "      <td>13.0</td>\n",
       "      <td>196400000.0</td>\n",
       "    </tr>\n",
       "  </tbody>\n",
       "</table>\n",
       "<p>5 rows × 57 columns</p>\n",
       "</div>"
      ]
     },
     "execution_count": 237,
     "metadata": {},
     "output_type": "execute_result"
    }
   ],
   "execution_count": 237
  },
  {
   "metadata": {},
   "cell_type": "markdown",
   "source": "# 12. Generate a dataframe which should include all the information of the Top 20 players based on the Overall rating. (4 points)",
   "id": "86774f1d25420a00"
  },
  {
   "metadata": {
    "ExecuteTime": {
     "end_time": "2024-11-03T16:36:59.202950Z",
     "start_time": "2024-11-03T16:36:59.174931Z"
    }
   },
   "cell_type": "code",
   "source": [
    "import pandas as pd\n",
    "\n",
    "# Step 1: Ensure that the 'Overall' column is in numeric format\n",
    "fifa_data_df['Overall'] = pd.to_numeric(fifa_data_df['Overall'], errors='coerce')\n",
    "\n",
    "# Step 2: Sort the DataFrame by 'Overall' in descending order\n",
    "top_players = fifa_data_df.sort_values(by='Overall', ascending=False).head(20)\n",
    "\n",
    "# Step 3: Create a new DataFrame with the top 20 players\n",
    "top_20_players_df = top_players.reset_index(drop=True)\n",
    "\n",
    "# Display the new DataFrame\n",
    "print(top_20_players_df)\n"
   ],
   "id": "f05c640101ff7813",
   "outputs": [
    {
     "name": "stdout",
     "output_type": "stream",
     "text": [
      "        ID               Name  Age Nationality  Overall  Potential  \\\n",
      "0   158023           L. Messi   31   Argentina       94         94   \n",
      "1    20801  Cristiano Ronaldo   33    Portugal       94         94   \n",
      "2   190871          Neymar Jr   26      Brazil       92         93   \n",
      "3   193080             De Gea   27       Spain       91         93   \n",
      "4   192985       K. De Bruyne   27     Belgium       91         92   \n",
      "5   183277          E. Hazard   27     Belgium       91         91   \n",
      "6   177003          L. Modrić   32     Croatia       91         91   \n",
      "7   176580          L. Suárez   31     Uruguay       91         91   \n",
      "8   155862       Sergio Ramos   32       Spain       91         91   \n",
      "9   182493           D. Godín   32     Uruguay       90         90   \n",
      "10  168542        David Silva   32       Spain       90         90   \n",
      "11  200389           J. Oblak   25    Slovenia       90         93   \n",
      "12  182521           T. Kroos   28     Germany       90         90   \n",
      "13  188545     R. Lewandowski   29      Poland       90         90   \n",
      "14  189511    Sergio Busquets   29       Spain       89         89   \n",
      "15  138956       G. Chiellini   33       Italy       89         89   \n",
      "16  153079          S. Agüero   30   Argentina       89         89   \n",
      "17  167495           M. Neuer   32     Germany       89         89   \n",
      "18  179813          E. Cavani   31     Uruguay       89         89   \n",
      "19  202126            H. Kane   24     England       89         91   \n",
      "\n",
      "                   Club        Value      Wage Preferred Foot  ...  Composure  \\\n",
      "0          FC Barcelona  110500000.0  565000.0           Left  ...       96.0   \n",
      "1              Juventus   77000000.0  405000.0          Right  ...       95.0   \n",
      "2   Paris Saint-Germain  118500000.0  290000.0          Right  ...       94.0   \n",
      "3     Manchester United   72000000.0  260000.0          Right  ...       68.0   \n",
      "4       Manchester City  102000000.0  355000.0          Right  ...       88.0   \n",
      "5               Chelsea   93000000.0  340000.0          Right  ...       91.0   \n",
      "6           Real Madrid   67000000.0  420000.0          Right  ...       84.0   \n",
      "7          FC Barcelona   80000000.0  455000.0          Right  ...       85.0   \n",
      "8           Real Madrid   51000000.0  380000.0          Right  ...       82.0   \n",
      "9       Atlético Madrid   44000000.0  125000.0          Right  ...       82.0   \n",
      "10      Manchester City   60000000.0  285000.0           Left  ...       93.0   \n",
      "11      Atlético Madrid   68000000.0   94000.0          Right  ...       70.0   \n",
      "12          Real Madrid   76500000.0  355000.0          Right  ...       85.0   \n",
      "13    FC Bayern München   77000000.0  205000.0          Right  ...       86.0   \n",
      "14         FC Barcelona   51500000.0  315000.0          Right  ...       90.0   \n",
      "15             Juventus   27000000.0  215000.0           Left  ...       84.0   \n",
      "16      Manchester City   64500000.0  300000.0          Right  ...       90.0   \n",
      "17    FC Bayern München   38000000.0  130000.0          Right  ...       70.0   \n",
      "18  Paris Saint-Germain   60000000.0  200000.0          Right  ...       82.0   \n",
      "19    Tottenham Hotspur   83500000.0  205000.0          Right  ...       89.0   \n",
      "\n",
      "    Marking  StandingTackle SlidingTackle GKDiving GKHandling  GKKicking  \\\n",
      "0      33.0            28.0          26.0      6.0       11.0       15.0   \n",
      "1      28.0            31.0          23.0      7.0       11.0       15.0   \n",
      "2      27.0            24.0          33.0      9.0        9.0       15.0   \n",
      "3      15.0            21.0          13.0     90.0       85.0       87.0   \n",
      "4      68.0            58.0          51.0     15.0       13.0        5.0   \n",
      "5      34.0            27.0          22.0     11.0       12.0        6.0   \n",
      "6      60.0            76.0          73.0     13.0        9.0        7.0   \n",
      "7      62.0            45.0          38.0     27.0       25.0       31.0   \n",
      "8      87.0            92.0          91.0     11.0        8.0        9.0   \n",
      "9      90.0            89.0          89.0      6.0        8.0       15.0   \n",
      "10     59.0            53.0          29.0      6.0       15.0        7.0   \n",
      "11     27.0            12.0          18.0     86.0       92.0       78.0   \n",
      "12     72.0            79.0          69.0     10.0       11.0       13.0   \n",
      "13     34.0            42.0          19.0     15.0        6.0       12.0   \n",
      "14     90.0            86.0          80.0      5.0        8.0       13.0   \n",
      "15     93.0            93.0          90.0      3.0        3.0        2.0   \n",
      "16     30.0            20.0          12.0     13.0       15.0        6.0   \n",
      "17     17.0            10.0          11.0     90.0       86.0       91.0   \n",
      "18     52.0            45.0          39.0     12.0        5.0       13.0   \n",
      "19     56.0            36.0          38.0      8.0       10.0       11.0   \n",
      "\n",
      "    GKPositioning GKReflexes Release Clause  \n",
      "0            14.0        8.0    226500000.0  \n",
      "1            14.0       11.0    127100000.0  \n",
      "2            15.0       11.0    228100000.0  \n",
      "3            88.0       94.0    138600000.0  \n",
      "4            10.0       13.0    196400000.0  \n",
      "5             8.0        8.0    172100000.0  \n",
      "6            14.0        9.0    137400000.0  \n",
      "7            33.0       37.0    164000000.0  \n",
      "8             7.0       11.0    104600000.0  \n",
      "9             5.0       15.0     90200000.0  \n",
      "10            6.0       12.0    111000000.0  \n",
      "11           88.0       89.0    144500000.0  \n",
      "12            7.0       10.0    156800000.0  \n",
      "13            8.0       10.0    127100000.0  \n",
      "14            9.0       13.0    105600000.0  \n",
      "15            4.0        3.0     44600000.0  \n",
      "16           11.0       14.0    119300000.0  \n",
      "17           87.0       87.0     62700000.0  \n",
      "18           13.0       10.0    111000000.0  \n",
      "19           14.0       11.0    160700000.0  \n",
      "\n",
      "[20 rows x 57 columns]\n"
     ]
    }
   ],
   "execution_count": 238
  },
  {
   "metadata": {},
   "cell_type": "markdown",
   "source": "# 13. What is the average \"Age\" and \"Wage\" of these top 20 players? (use the data frame created in the question 11) (2 points)",
   "id": "c9b4ecb3940beb68"
  },
  {
   "metadata": {
    "ExecuteTime": {
     "end_time": "2024-11-03T16:36:59.327964Z",
     "start_time": "2024-11-03T16:36:59.321865Z"
    }
   },
   "cell_type": "code",
   "source": [
    "avg_age = top_20_df['Age'].mean()\n",
    "avg_wage = top_20_df['Wage'].mean()\n",
    "print(f'Average Age: {avg_age}, Average Wage: {avg_wage}')\n"
   ],
   "id": "8fee4dab06743d35",
   "outputs": [
    {
     "name": "stdout",
     "output_type": "stream",
     "text": [
      "Average Age: 28.3, Average Wage: 289700.0\n"
     ]
    }
   ],
   "execution_count": 239
  },
  {
   "metadata": {},
   "cell_type": "markdown",
   "source": "# 14. Among the top 20 players based on the Overall rating, which player has the highest wage? Display the name of the player with his wage. (2 points)",
   "id": "c987b7fb4db9541c"
  },
  {
   "metadata": {
    "ExecuteTime": {
     "end_time": "2024-11-03T16:36:59.515270Z",
     "start_time": "2024-11-03T16:36:59.509978Z"
    }
   },
   "cell_type": "code",
   "source": [
    "highest_wage_player = top_20_df.loc[top_20_df['Wage'].idxmax(), ['Name', 'Wage']]\n",
    "print(highest_wage_player)\n"
   ],
   "id": "d3a7c0b467ab3cdb",
   "outputs": [
    {
     "name": "stdout",
     "output_type": "stream",
     "text": [
      "Name    L. Messi\n",
      "Wage    565000.0\n",
      "Name: 0, dtype: object\n"
     ]
    }
   ],
   "execution_count": 240
  },
  {
   "metadata": {},
   "cell_type": "markdown",
   "source": [
    "# 15. Generate a dataframe which should include the \"Player name\", \"Club Name\", \"Wage\", and 'Overall rating'. (4 Points)\n",
    "- i) find the average Overall rating for each club.\n",
    "- ii) Display the average overall rating of Top10 Clubs using a plot"
   ],
   "id": "3366d3d7a415aaff"
  },
  {
   "metadata": {
    "ExecuteTime": {
     "end_time": "2024-11-03T16:36:59.649968Z",
     "start_time": "2024-11-03T16:36:59.634928Z"
    }
   },
   "cell_type": "code",
   "source": [
    "club_wage_df = fifa_data_df[['Name', 'Club', 'Wage', 'Overall']]\n",
    "avg_overall_by_club = club_wage_df.groupby('Club')['Overall'].mean().reset_index()\n",
    "avg_overall_by_club"
   ],
   "id": "397658ad694a2117",
   "outputs": [
    {
     "data": {
      "text/plain": [
       "                      Club    Overall\n",
       "0      SSV Jahn Regensburg  65.586207\n",
       "1    1. FC Heidenheim 1846  65.750000\n",
       "2     1. FC Kaiserslautern  63.384615\n",
       "3               1. FC Köln  70.785714\n",
       "4          1. FC Magdeburg  65.615385\n",
       "..                     ...        ...\n",
       "646     Zagłębie Sosnowiec  60.760000\n",
       "647        Çaykur Rizespor  66.900000\n",
       "648              Örebro SK  60.481481\n",
       "649          Östersunds FK  63.545455\n",
       "650          Śląsk Wrocław  62.200000\n",
       "\n",
       "[651 rows x 2 columns]"
      ],
      "text/html": [
       "<div>\n",
       "<style scoped>\n",
       "    .dataframe tbody tr th:only-of-type {\n",
       "        vertical-align: middle;\n",
       "    }\n",
       "\n",
       "    .dataframe tbody tr th {\n",
       "        vertical-align: top;\n",
       "    }\n",
       "\n",
       "    .dataframe thead th {\n",
       "        text-align: right;\n",
       "    }\n",
       "</style>\n",
       "<table border=\"1\" class=\"dataframe\">\n",
       "  <thead>\n",
       "    <tr style=\"text-align: right;\">\n",
       "      <th></th>\n",
       "      <th>Club</th>\n",
       "      <th>Overall</th>\n",
       "    </tr>\n",
       "  </thead>\n",
       "  <tbody>\n",
       "    <tr>\n",
       "      <th>0</th>\n",
       "      <td>SSV Jahn Regensburg</td>\n",
       "      <td>65.586207</td>\n",
       "    </tr>\n",
       "    <tr>\n",
       "      <th>1</th>\n",
       "      <td>1. FC Heidenheim 1846</td>\n",
       "      <td>65.750000</td>\n",
       "    </tr>\n",
       "    <tr>\n",
       "      <th>2</th>\n",
       "      <td>1. FC Kaiserslautern</td>\n",
       "      <td>63.384615</td>\n",
       "    </tr>\n",
       "    <tr>\n",
       "      <th>3</th>\n",
       "      <td>1. FC Köln</td>\n",
       "      <td>70.785714</td>\n",
       "    </tr>\n",
       "    <tr>\n",
       "      <th>4</th>\n",
       "      <td>1. FC Magdeburg</td>\n",
       "      <td>65.615385</td>\n",
       "    </tr>\n",
       "    <tr>\n",
       "      <th>...</th>\n",
       "      <td>...</td>\n",
       "      <td>...</td>\n",
       "    </tr>\n",
       "    <tr>\n",
       "      <th>646</th>\n",
       "      <td>Zagłębie Sosnowiec</td>\n",
       "      <td>60.760000</td>\n",
       "    </tr>\n",
       "    <tr>\n",
       "      <th>647</th>\n",
       "      <td>Çaykur Rizespor</td>\n",
       "      <td>66.900000</td>\n",
       "    </tr>\n",
       "    <tr>\n",
       "      <th>648</th>\n",
       "      <td>Örebro SK</td>\n",
       "      <td>60.481481</td>\n",
       "    </tr>\n",
       "    <tr>\n",
       "      <th>649</th>\n",
       "      <td>Östersunds FK</td>\n",
       "      <td>63.545455</td>\n",
       "    </tr>\n",
       "    <tr>\n",
       "      <th>650</th>\n",
       "      <td>Śląsk Wrocław</td>\n",
       "      <td>62.200000</td>\n",
       "    </tr>\n",
       "  </tbody>\n",
       "</table>\n",
       "<p>651 rows × 2 columns</p>\n",
       "</div>"
      ]
     },
     "execution_count": 241,
     "metadata": {},
     "output_type": "execute_result"
    }
   ],
   "execution_count": 241
  },
  {
   "metadata": {
    "ExecuteTime": {
     "end_time": "2024-11-03T16:37:00.001930Z",
     "start_time": "2024-11-03T16:36:59.776081Z"
    }
   },
   "cell_type": "code",
   "source": [
    "top_clubs = avg_overall_by_club.nlargest(10, 'Overall')\n",
    "sns.barplot(data=top_clubs, x='Overall', y='Club')\n",
    "plt.title('Top 10 Clubs by Average Overall Rating')\n",
    "plt.show()\n",
    "\n"
   ],
   "id": "1082830f74326955",
   "outputs": [
    {
     "data": {
      "text/plain": [
       "<Figure size 640x480 with 1 Axes>"
      ],
      "image/png": "[encoded data removed]"
     },
     "metadata": {},
     "output_type": "display_data"
    }
   ],
   "execution_count": 242
  },
  {
   "metadata": {},
   "cell_type": "markdown",
   "source": "# 16. What is the relationship between age and individual potential of the player? Visualize the relationship with appropriate plot and Comment on the same. (2 points)",
   "id": "fc6b09b172e09e0c"
  },
  {
   "metadata": {
    "ExecuteTime": {
     "end_time": "2024-11-03T16:37:00.280607Z",
     "start_time": "2024-11-03T16:37:00.047846Z"
    }
   },
   "cell_type": "code",
   "source": [
    "plt.figure(figsize=(10, 6))\n",
    "sns.scatterplot(data=fifa_data_df, x='Age', y='Potential')\n",
    "plt.title('Relationship Between Age and Potential')\n",
    "plt.xlabel('Age')\n",
    "plt.ylabel('Potential')\n",
    "plt.show()\n"
   ],
   "id": "4681652c513d4895",
   "outputs": [
    {
     "data": {
      "text/plain": [
       "<Figure size 1000x600 with 1 Axes>"
      ],
      "image/png": "[encoded data removed]"
     },
     "metadata": {},
     "output_type": "display_data"
    }
   ],
   "execution_count": 243
  },
  {
   "metadata": {
    "ExecuteTime": {
     "end_time": "2024-11-03T16:37:00.639837Z",
     "start_time": "2024-11-03T16:37:00.313642Z"
    }
   },
   "cell_type": "code",
   "source": [
    "import pandas as pd\n",
    "import matplotlib.pyplot as plt\n",
    "import seaborn as sns\n",
    "\n",
    "# Assuming fifa_data_df is your existing DataFrame\n",
    "\n",
    "# Step 1: Ensure 'Age' and 'Potential' are numeric\n",
    "fifa_data_df['Age'] = pd.to_numeric(fifa_data_df['Age'], errors='coerce')\n",
    "fifa_data_df['Potential'] = pd.to_numeric(fifa_data_df['Potential'], errors='coerce')\n",
    "\n",
    "# Step 2: Drop rows with NaN values in 'Age' or 'Potential'\n",
    "data = fifa_data_df.dropna(subset=['Age', 'Potential'])\n",
    "\n",
    "# Step 3: Create a scatter plot\n",
    "plt.figure(figsize=(10, 6))\n",
    "sns.scatterplot(data=data, x='Age', y='Potential', alpha=0.6)\n",
    "plt.title('Relationship between Age and Player Potential')\n",
    "plt.xlabel('Age')\n",
    "plt.ylabel('Potential')\n",
    "plt.axhline(y=data['Potential'].mean(), color='r', linestyle='--', label='Mean Potential')\n",
    "plt.legend()\n",
    "plt.grid(True)\n",
    "plt.show()\n"
   ],
   "id": "c8fd7779a154bba",
   "outputs": [
    {
     "data": {
      "text/plain": [
       "<Figure size 1000x600 with 1 Axes>"
      ],
      "image/png": "[encoded data removed]"
     },
     "metadata": {},
     "output_type": "display_data"
    }
   ],
   "execution_count": 244
  },
  {
   "metadata": {},
   "cell_type": "markdown",
   "source": [
    "#Interpretation:\n",
    "Trend Analysis: In the scatter plot, we can look for trends. Typically, we might expect to see that younger players have higher potential, while older players might show a decline in potential.\n",
    "Correlation: If there is a visible downward trend, it may indicate that as players age, their potential decreases. Conversely, if potential remains relatively high for younger players and declines more slowly as age increases, it suggests a different pattern.\n",
    "\n",
    "#Commenting on the Relationship:\n",
    "After generating the plot, observe the distribution of points. If most young players have higher potential, we might conclude that younger players are generally seen as having more room for growth.\n",
    "If there are outliers (e.g., older players with high potential), we can discuss how experience or skill can influence potential despite age."
   ],
   "id": "cfc157d366d59ba3"
  },
  {
   "metadata": {},
   "cell_type": "markdown",
   "source": "# 17. Which features directly contribute to the wages of the players? Support your answer with a plot and a metric. (2 points) (hint: use potential, Overall, value, international reputation, and Release Clause)",
   "id": "d9fd42843ac4137b"
  },
  {
   "metadata": {
    "ExecuteTime": {
     "end_time": "2024-11-03T16:37:00.989477Z",
     "start_time": "2024-11-03T16:37:00.733367Z"
    }
   },
   "cell_type": "code",
   "source": [
    "features = ['Potential', 'Overall', 'Value', 'International Reputation', 'Release Clause']\n",
    "sns.heatmap(fifa_data_df[features].corr(), annot=True, cmap='coolwarm')\n",
    "plt.title('Correlation Heatmap')\n",
    "plt.show()\n"
   ],
   "id": "a238d59902c3f95b",
   "outputs": [
    {
     "data": {
      "text/plain": [
       "<Figure size 640x480 with 2 Axes>"
      ],
      "image/png": "[encoded data removed]"
     },
     "metadata": {},
     "output_type": "display_data"
    }
   ],
   "execution_count": 245
  },
  {
   "metadata": {
    "ExecuteTime": {
     "end_time": "2024-11-03T16:37:02.425374Z",
     "start_time": "2024-11-03T16:37:01.081997Z"
    }
   },
   "cell_type": "code",
   "source": [
    "import pandas as pd\n",
    "import matplotlib.pyplot as plt\n",
    "import seaborn as sns\n",
    "\n",
    "# Assuming fifa_data_df is your existing DataFrame\n",
    "\n",
    "# Step 1: Convert relevant columns to numeric and drop NaNs\n",
    "features = ['Wage', 'Potential', 'Overall', 'Value', 'International Reputation', 'Release Clause']\n",
    "for feature in features:\n",
    "    fifa_data_df[feature] = pd.to_numeric(fifa_data_df[feature], errors='coerce')\n",
    "\n",
    "# Drop rows with NaN values in the relevant columns\n",
    "data = fifa_data_df.dropna(subset=features)\n",
    "\n",
    "# Step 2: Calculate correlation coefficients\n",
    "correlation_matrix = data[features].corr()\n",
    "print(correlation_matrix['Wage'])\n",
    "\n",
    "# Step 3: Visualize relationships\n",
    "plt.figure(figsize=(15, 10))\n",
    "for i, feature in enumerate(features[1:], start=1):\n",
    "    plt.subplot(2, 3, i)\n",
    "    sns.scatterplot(data=data, x=feature, y='Wage', alpha=0.6)\n",
    "    plt.title(f'Wage vs {feature}')\n",
    "    plt.xlabel(feature)\n",
    "    plt.ylabel('Wage')\n",
    "    plt.grid(True)\n",
    "\n",
    "plt.tight_layout()\n",
    "plt.show()\n"
   ],
   "id": "377b857e2c5c1ff8",
   "outputs": [
    {
     "name": "stdout",
     "output_type": "stream",
     "text": [
      "Wage                        1.000000\n",
      "Potential                   0.490633\n",
      "Overall                     0.573896\n",
      "Value                       0.861528\n",
      "International Reputation    0.677923\n",
      "Release Clause              0.855922\n",
      "Name: Wage, dtype: float64\n"
     ]
    },
    {
     "data": {
      "text/plain": [
       "<Figure size 1500x1000 with 5 Axes>"
      ],
      "image/png": "[encoded data removed]"
     },
     "metadata": {},
     "output_type": "display_data"
    }
   ],
   "execution_count": 246
  },
  {
   "metadata": {},
   "cell_type": "markdown",
   "source": [
    "#Explanation:\n",
    "Counting Players: The value_counts() method counts the occurrences of each position in the \"Position\" column.\n",
    "Identifying Max and Min: The idxmax() and idxmin() functions help to find the positions with the maximum and minimum counts, respectively.\n",
    "Visualization: A bar plot is created to show the number of players in each position. Horizontal lines indicate the counts of the positions with the maximum and minimum players for clarity.\n",
    "\n",
    "#Interpretation:\n",
    "After running the code, we will see a bar plot displaying the distribution of players across different positions.\n",
    "The printed output will specify the position with the maximum number of players and the position with the minimum number of players."
   ],
   "id": "4186899ec89e46f8"
  },
  {
   "metadata": {},
   "cell_type": "markdown",
   "source": "# 18. Find the position in the pitch where the maximum number of players play and the position where the minimum number of players play? Display it using a plot. (2 points)",
   "id": "9900a85e817a5d96"
  },
  {
   "metadata": {
    "ExecuteTime": {
     "end_time": "2024-11-03T16:37:02.773319Z",
     "start_time": "2024-11-03T16:37:02.511442Z"
    }
   },
   "cell_type": "code",
   "source": [
    "position_counts = fifa_data_df['Position'].value_counts()\n",
    "position_counts.plot(kind='bar')\n",
    "plt.title('Player Positions Count')\n",
    "plt.xlabel('Position')\n",
    "plt.ylabel('Number of Players')\n",
    "plt.show()\n"
   ],
   "id": "b316d52b549c962b",
   "outputs": [
    {
     "data": {
      "text/plain": [
       "<Figure size 640x480 with 1 Axes>"
      ],
      "image/png": "[encoded data removed]"
     },
     "metadata": {},
     "output_type": "display_data"
    }
   ],
   "execution_count": 247
  },
  {
   "metadata": {
    "ExecuteTime": {
     "end_time": "2024-11-03T16:37:03.314853Z",
     "start_time": "2024-11-03T16:37:02.941623Z"
    }
   },
   "cell_type": "code",
   "source": [
    "import pandas as pd\n",
    "import matplotlib.pyplot as plt\n",
    "\n",
    "# Step 1: Count the number of players in each position\n",
    "position_counts = fifa_data_df['Position'].value_counts()\n",
    "\n",
    "# Step 2: Identify the position with maximum and minimum players\n",
    "max_position = position_counts.idxmax()\n",
    "min_position = position_counts.idxmin()\n",
    "max_count = position_counts.max()\n",
    "min_count = position_counts.min()\n",
    "\n",
    "# Print the results\n",
    "print(f\"Position with maximum players: {max_position} ({max_count} players)\")\n",
    "print(f\"Position with minimum players: {min_position} ({min_count} players)\")\n",
    "\n",
    "# Step 3: Plot the number of players by position\n",
    "plt.figure(figsize=(12, 6))\n",
    "position_counts.plot(kind='bar', color='skyblue')\n",
    "plt.title('Number of Players by Position')\n",
    "plt.xlabel('Position')\n",
    "plt.ylabel('Number of Players')\n",
    "plt.xticks(rotation=45)\n",
    "plt.grid(axis='y')\n",
    "\n",
    "# Highlight the max and min positions\n",
    "plt.axhline(y=max_count, color='red', linestyle='--', label=f'Max: {max_position}')\n",
    "plt.axhline(y=min_count, color='green', linestyle='--', label=f'Min: {min_position}')\n",
    "plt.legend()\n",
    "\n",
    "plt.tight_layout()\n",
    "plt.show()\n"
   ],
   "id": "47caae0870f743c9",
   "outputs": [
    {
     "name": "stdout",
     "output_type": "stream",
     "text": [
      "Position with maximum players: ST (2152 players)\n",
      "Position with minimum players: LF (15 players)\n"
     ]
    },
    {
     "data": {
      "text/plain": [
       "<Figure size 1200x600 with 1 Axes>"
      ],
      "image/png": "[encoded data removed]"
     },
     "metadata": {},
     "output_type": "display_data"
    }
   ],
   "execution_count": 248
  },
  {
   "metadata": {},
   "cell_type": "markdown",
   "source": "# 19. How many players are from the club 'Juventus' and the wage is greater than 200K? Display all the information of such players. (2 points)",
   "id": "9ed0aede7328f505"
  },
  {
   "metadata": {
    "ExecuteTime": {
     "end_time": "2024-11-03T16:37:03.361814Z",
     "start_time": "2024-11-03T16:37:03.346864Z"
    }
   },
   "cell_type": "code",
   "source": [
    "juventus_players = fifa_data_df[(fifa_data_df['Club'] == 'Juventus') & (fifa_data_df['Wage'] > 200000)]\n",
    "print(juventus_players)\n"
   ],
   "id": "5de79a3c2b7762e4",
   "outputs": [
    {
     "name": "stdout",
     "output_type": "stream",
     "text": [
      "        ID               Name  Age Nationality  Overall  Potential      Club  \\\n",
      "1    20801  Cristiano Ronaldo   33    Portugal       94         94  Juventus   \n",
      "15  211110          P. Dybala   24   Argentina       89         94  Juventus   \n",
      "24  138956       G. Chiellini   33       Italy       89         89  Juventus   \n",
      "\n",
      "         Value      Wage Preferred Foot  ...  Composure  Marking  \\\n",
      "1   77000000.0  405000.0          Right  ...       95.0     28.0   \n",
      "15  89000000.0  205000.0           Left  ...       84.0     23.0   \n",
      "24  27000000.0  215000.0           Left  ...       84.0     93.0   \n",
      "\n",
      "    StandingTackle SlidingTackle GKDiving GKHandling  GKKicking  \\\n",
      "1             31.0          23.0      7.0       11.0       15.0   \n",
      "15            20.0          20.0      5.0        4.0        4.0   \n",
      "24            93.0          90.0      3.0        3.0        2.0   \n",
      "\n",
      "    GKPositioning GKReflexes Release Clause  \n",
      "1            14.0       11.0    127100000.0  \n",
      "15            5.0        8.0    153500000.0  \n",
      "24            4.0        3.0     44600000.0  \n",
      "\n",
      "[3 rows x 57 columns]\n"
     ]
    }
   ],
   "execution_count": 249
  },
  {
   "metadata": {},
   "cell_type": "markdown",
   "source": "# 20. Generate a data frame containing top 5 players by Overall rating for each unique position. (2 Points)",
   "id": "af7978b80b334d84"
  },
  {
   "metadata": {
    "ExecuteTime": {
     "end_time": "2024-11-03T16:37:03.522018Z",
     "start_time": "2024-11-03T16:37:03.448698Z"
    }
   },
   "cell_type": "code",
   "source": [
    "top_players_per_position0 = fifa_data_df.groupby('Position').apply(\n",
    "    lambda x: x.nlargest(5, 'Overall'),\n",
    "    include_groups=False\n",
    ").reset_index(drop=True)\n",
    "\n",
    "# Display the result\n",
    "print(top_players_per_position0)\n"
   ],
   "id": "d2952967863621aa",
   "outputs": [
    {
     "name": "stdout",
     "output_type": "stream",
     "text": [
      "         ID               Name  Age Nationality  Overall  Potential  \\\n",
      "0    194765       A. Griezmann   27      France       89         90   \n",
      "1    190460         C. Eriksen   26     Denmark       88         91   \n",
      "2    201942    Roberto Firmino   26      Brazil       86         87   \n",
      "3    189596          T. Müller   28     Germany       86         86   \n",
      "4    176635            M. Özil   29     Germany       86         86   \n",
      "..      ...                ...  ...         ...      ...        ...   \n",
      "130   20801  Cristiano Ronaldo   33    Portugal       94         94   \n",
      "131  188545     R. Lewandowski   29      Poland       90         90   \n",
      "132  202126            H. Kane   24     England       89         91   \n",
      "133  153079          S. Agüero   30   Argentina       89         89   \n",
      "134  173731            G. Bale   28       Wales       88         88   \n",
      "\n",
      "                  Club       Value      Wage Preferred Foot  ...  Composure  \\\n",
      "0      Atlético Madrid  78000000.0  145000.0           Left  ...       87.0   \n",
      "1    Tottenham Hotspur  73500000.0  205000.0          Right  ...       88.0   \n",
      "2            Liverpool  53000000.0  195000.0          Right  ...       87.0   \n",
      "3    FC Bayern München  45000000.0  135000.0          Right  ...       83.0   \n",
      "4              Arsenal  43500000.0  190000.0           Left  ...       82.0   \n",
      "..                 ...         ...       ...            ...  ...        ...   \n",
      "130           Juventus  77000000.0  405000.0          Right  ...       95.0   \n",
      "131  FC Bayern München  77000000.0  205000.0          Right  ...       86.0   \n",
      "132  Tottenham Hotspur  83500000.0  205000.0          Right  ...       89.0   \n",
      "133    Manchester City  64500000.0  300000.0          Right  ...       90.0   \n",
      "134        Real Madrid  60000000.0  355000.0           Left  ...       86.0   \n",
      "\n",
      "     Marking  StandingTackle SlidingTackle GKDiving  GKHandling  GKKicking  \\\n",
      "0       59.0            47.0          48.0     14.0         8.0       14.0   \n",
      "1       59.0            57.0          22.0      9.0        14.0        7.0   \n",
      "2       60.0            64.0          42.0      8.0        11.0        9.0   \n",
      "3       44.0            41.0          44.0      6.0         7.0       11.0   \n",
      "4       24.0            16.0          19.0      6.0        14.0       10.0   \n",
      "..       ...             ...           ...      ...         ...        ...   \n",
      "130     28.0            31.0          23.0      7.0        11.0       15.0   \n",
      "131     34.0            42.0          19.0     15.0         6.0       12.0   \n",
      "132     56.0            36.0          38.0      8.0        10.0       11.0   \n",
      "133     30.0            20.0          12.0     13.0        15.0        6.0   \n",
      "134     54.0            55.0          52.0     15.0        15.0       11.0   \n",
      "\n",
      "    GKPositioning GKReflexes  Release Clause  \n",
      "0            13.0       14.0     165800000.0  \n",
      "1             7.0        6.0     141500000.0  \n",
      "2             6.0       10.0     104700000.0  \n",
      "3            14.0       14.0      74300000.0  \n",
      "4             6.0       14.0      82700000.0  \n",
      "..            ...        ...             ...  \n",
      "130          14.0       11.0     127100000.0  \n",
      "131           8.0       10.0     127100000.0  \n",
      "132          14.0       11.0     160700000.0  \n",
      "133          11.0       14.0     119300000.0  \n",
      "134           5.0        6.0     123000000.0  \n",
      "\n",
      "[135 rows x 56 columns]\n"
     ]
    }
   ],
   "execution_count": 250
  },
  {
   "metadata": {
    "ExecuteTime": {
     "end_time": "2024-11-03T16:37:03.628922Z",
     "start_time": "2024-11-03T16:37:03.609159Z"
    }
   },
   "cell_type": "code",
   "source": "top_players_per_position0.head()\n",
   "id": "45c6f239292c1c96",
   "outputs": [
    {
     "data": {
      "text/plain": [
       "       ID             Name  Age Nationality  Overall  Potential  \\\n",
       "0  194765     A. Griezmann   27      France       89         90   \n",
       "1  190460       C. Eriksen   26     Denmark       88         91   \n",
       "2  201942  Roberto Firmino   26      Brazil       86         87   \n",
       "3  189596        T. Müller   28     Germany       86         86   \n",
       "4  176635          M. Özil   29     Germany       86         86   \n",
       "\n",
       "                Club       Value      Wage Preferred Foot  ...  Composure  \\\n",
       "0    Atlético Madrid  78000000.0  145000.0           Left  ...       87.0   \n",
       "1  Tottenham Hotspur  73500000.0  205000.0          Right  ...       88.0   \n",
       "2          Liverpool  53000000.0  195000.0          Right  ...       87.0   \n",
       "3  FC Bayern München  45000000.0  135000.0          Right  ...       83.0   \n",
       "4            Arsenal  43500000.0  190000.0           Left  ...       82.0   \n",
       "\n",
       "   Marking  StandingTackle SlidingTackle GKDiving  GKHandling  GKKicking  \\\n",
       "0     59.0            47.0          48.0     14.0         8.0       14.0   \n",
       "1     59.0            57.0          22.0      9.0        14.0        7.0   \n",
       "2     60.0            64.0          42.0      8.0        11.0        9.0   \n",
       "3     44.0            41.0          44.0      6.0         7.0       11.0   \n",
       "4     24.0            16.0          19.0      6.0        14.0       10.0   \n",
       "\n",
       "  GKPositioning GKReflexes  Release Clause  \n",
       "0          13.0       14.0     165800000.0  \n",
       "1           7.0        6.0     141500000.0  \n",
       "2           6.0       10.0     104700000.0  \n",
       "3          14.0       14.0      74300000.0  \n",
       "4           6.0       14.0      82700000.0  \n",
       "\n",
       "[5 rows x 56 columns]"
      ],
      "text/html": [
       "<div>\n",
       "<style scoped>\n",
       "    .dataframe tbody tr th:only-of-type {\n",
       "        vertical-align: middle;\n",
       "    }\n",
       "\n",
       "    .dataframe tbody tr th {\n",
       "        vertical-align: top;\n",
       "    }\n",
       "\n",
       "    .dataframe thead th {\n",
       "        text-align: right;\n",
       "    }\n",
       "</style>\n",
       "<table border=\"1\" class=\"dataframe\">\n",
       "  <thead>\n",
       "    <tr style=\"text-align: right;\">\n",
       "      <th></th>\n",
       "      <th>ID</th>\n",
       "      <th>Name</th>\n",
       "      <th>Age</th>\n",
       "      <th>Nationality</th>\n",
       "      <th>Overall</th>\n",
       "      <th>Potential</th>\n",
       "      <th>Club</th>\n",
       "      <th>Value</th>\n",
       "      <th>Wage</th>\n",
       "      <th>Preferred Foot</th>\n",
       "      <th>...</th>\n",
       "      <th>Composure</th>\n",
       "      <th>Marking</th>\n",
       "      <th>StandingTackle</th>\n",
       "      <th>SlidingTackle</th>\n",
       "      <th>GKDiving</th>\n",
       "      <th>GKHandling</th>\n",
       "      <th>GKKicking</th>\n",
       "      <th>GKPositioning</th>\n",
       "      <th>GKReflexes</th>\n",
       "      <th>Release Clause</th>\n",
       "    </tr>\n",
       "  </thead>\n",
       "  <tbody>\n",
       "    <tr>\n",
       "      <th>0</th>\n",
       "      <td>194765</td>\n",
       "      <td>A. Griezmann</td>\n",
       "      <td>27</td>\n",
       "      <td>France</td>\n",
       "      <td>89</td>\n",
       "      <td>90</td>\n",
       "      <td>Atlético Madrid</td>\n",
       "      <td>78000000.0</td>\n",
       "      <td>145000.0</td>\n",
       "      <td>Left</td>\n",
       "      <td>...</td>\n",
       "      <td>87.0</td>\n",
       "      <td>59.0</td>\n",
       "      <td>47.0</td>\n",
       "      <td>48.0</td>\n",
       "      <td>14.0</td>\n",
       "      <td>8.0</td>\n",
       "      <td>14.0</td>\n",
       "      <td>13.0</td>\n",
       "      <td>14.0</td>\n",
       "      <td>165800000.0</td>\n",
       "    </tr>\n",
       "    <tr>\n",
       "      <th>1</th>\n",
       "      <td>190460</td>\n",
       "      <td>C. Eriksen</td>\n",
       "      <td>26</td>\n",
       "      <td>Denmark</td>\n",
       "      <td>88</td>\n",
       "      <td>91</td>\n",
       "      <td>Tottenham Hotspur</td>\n",
       "      <td>73500000.0</td>\n",
       "      <td>205000.0</td>\n",
       "      <td>Right</td>\n",
       "      <td>...</td>\n",
       "      <td>88.0</td>\n",
       "      <td>59.0</td>\n",
       "      <td>57.0</td>\n",
       "      <td>22.0</td>\n",
       "      <td>9.0</td>\n",
       "      <td>14.0</td>\n",
       "      <td>7.0</td>\n",
       "      <td>7.0</td>\n",
       "      <td>6.0</td>\n",
       "      <td>141500000.0</td>\n",
       "    </tr>\n",
       "    <tr>\n",
       "      <th>2</th>\n",
       "      <td>201942</td>\n",
       "      <td>Roberto Firmino</td>\n",
       "      <td>26</td>\n",
       "      <td>Brazil</td>\n",
       "      <td>86</td>\n",
       "      <td>87</td>\n",
       "      <td>Liverpool</td>\n",
       "      <td>53000000.0</td>\n",
       "      <td>195000.0</td>\n",
       "      <td>Right</td>\n",
       "      <td>...</td>\n",
       "      <td>87.0</td>\n",
       "      <td>60.0</td>\n",
       "      <td>64.0</td>\n",
       "      <td>42.0</td>\n",
       "      <td>8.0</td>\n",
       "      <td>11.0</td>\n",
       "      <td>9.0</td>\n",
       "      <td>6.0</td>\n",
       "      <td>10.0</td>\n",
       "      <td>104700000.0</td>\n",
       "    </tr>\n",
       "    <tr>\n",
       "      <th>3</th>\n",
       "      <td>189596</td>\n",
       "      <td>T. Müller</td>\n",
       "      <td>28</td>\n",
       "      <td>Germany</td>\n",
       "      <td>86</td>\n",
       "      <td>86</td>\n",
       "      <td>FC Bayern München</td>\n",
       "      <td>45000000.0</td>\n",
       "      <td>135000.0</td>\n",
       "      <td>Right</td>\n",
       "      <td>...</td>\n",
       "      <td>83.0</td>\n",
       "      <td>44.0</td>\n",
       "      <td>41.0</td>\n",
       "      <td>44.0</td>\n",
       "      <td>6.0</td>\n",
       "      <td>7.0</td>\n",
       "      <td>11.0</td>\n",
       "      <td>14.0</td>\n",
       "      <td>14.0</td>\n",
       "      <td>74300000.0</td>\n",
       "    </tr>\n",
       "    <tr>\n",
       "      <th>4</th>\n",
       "      <td>176635</td>\n",
       "      <td>M. Özil</td>\n",
       "      <td>29</td>\n",
       "      <td>Germany</td>\n",
       "      <td>86</td>\n",
       "      <td>86</td>\n",
       "      <td>Arsenal</td>\n",
       "      <td>43500000.0</td>\n",
       "      <td>190000.0</td>\n",
       "      <td>Left</td>\n",
       "      <td>...</td>\n",
       "      <td>82.0</td>\n",
       "      <td>24.0</td>\n",
       "      <td>16.0</td>\n",
       "      <td>19.0</td>\n",
       "      <td>6.0</td>\n",
       "      <td>14.0</td>\n",
       "      <td>10.0</td>\n",
       "      <td>6.0</td>\n",
       "      <td>14.0</td>\n",
       "      <td>82700000.0</td>\n",
       "    </tr>\n",
       "  </tbody>\n",
       "</table>\n",
       "<p>5 rows × 56 columns</p>\n",
       "</div>"
      ]
     },
     "execution_count": 251,
     "metadata": {},
     "output_type": "execute_result"
    }
   ],
   "execution_count": 251
  },
  {
   "metadata": {
    "ExecuteTime": {
     "end_time": "2024-11-03T16:37:03.865628Z",
     "start_time": "2024-11-03T16:37:03.762605Z"
    }
   },
   "cell_type": "code",
   "source": [
    "import pandas as pd\n",
    "\n",
    "# Group by 'Position' and get top 5 players by 'Overall'\n",
    "top_players_per_position1 = (\n",
    "    fifa_data_df.groupby('Position', as_index=False)\n",
    "    .apply(lambda x: x.nlargest(5, 'Overall'))\n",
    "    .reset_index(drop=True)\n",
    ")\n",
    "\n",
    "# Display the result\n",
    "print(top_players_per_position1)\n"
   ],
   "id": "5c4ce2199e99ec7",
   "outputs": [
    {
     "name": "stdout",
     "output_type": "stream",
     "text": [
      "         ID               Name  Age Nationality  Overall  Potential  \\\n",
      "0    194765       A. Griezmann   27      France       89         90   \n",
      "1    190460         C. Eriksen   26     Denmark       88         91   \n",
      "2    201942    Roberto Firmino   26      Brazil       86         87   \n",
      "3    189596          T. Müller   28     Germany       86         86   \n",
      "4    176635            M. Özil   29     Germany       86         86   \n",
      "..      ...                ...  ...         ...      ...        ...   \n",
      "130   20801  Cristiano Ronaldo   33    Portugal       94         94   \n",
      "131  188545     R. Lewandowski   29      Poland       90         90   \n",
      "132  202126            H. Kane   24     England       89         91   \n",
      "133  153079          S. Agüero   30   Argentina       89         89   \n",
      "134  173731            G. Bale   28       Wales       88         88   \n",
      "\n",
      "                  Club       Value      Wage Preferred Foot  ...  Composure  \\\n",
      "0      Atlético Madrid  78000000.0  145000.0           Left  ...       87.0   \n",
      "1    Tottenham Hotspur  73500000.0  205000.0          Right  ...       88.0   \n",
      "2            Liverpool  53000000.0  195000.0          Right  ...       87.0   \n",
      "3    FC Bayern München  45000000.0  135000.0          Right  ...       83.0   \n",
      "4              Arsenal  43500000.0  190000.0           Left  ...       82.0   \n",
      "..                 ...         ...       ...            ...  ...        ...   \n",
      "130           Juventus  77000000.0  405000.0          Right  ...       95.0   \n",
      "131  FC Bayern München  77000000.0  205000.0          Right  ...       86.0   \n",
      "132  Tottenham Hotspur  83500000.0  205000.0          Right  ...       89.0   \n",
      "133    Manchester City  64500000.0  300000.0          Right  ...       90.0   \n",
      "134        Real Madrid  60000000.0  355000.0           Left  ...       86.0   \n",
      "\n",
      "     Marking  StandingTackle SlidingTackle GKDiving GKHandling  GKKicking  \\\n",
      "0       59.0            47.0          48.0     14.0        8.0       14.0   \n",
      "1       59.0            57.0          22.0      9.0       14.0        7.0   \n",
      "2       60.0            64.0          42.0      8.0       11.0        9.0   \n",
      "3       44.0            41.0          44.0      6.0        7.0       11.0   \n",
      "4       24.0            16.0          19.0      6.0       14.0       10.0   \n",
      "..       ...             ...           ...      ...        ...        ...   \n",
      "130     28.0            31.0          23.0      7.0       11.0       15.0   \n",
      "131     34.0            42.0          19.0     15.0        6.0       12.0   \n",
      "132     56.0            36.0          38.0      8.0       10.0       11.0   \n",
      "133     30.0            20.0          12.0     13.0       15.0        6.0   \n",
      "134     54.0            55.0          52.0     15.0       15.0       11.0   \n",
      "\n",
      "     GKPositioning GKReflexes Release Clause  \n",
      "0             13.0       14.0    165800000.0  \n",
      "1              7.0        6.0    141500000.0  \n",
      "2              6.0       10.0    104700000.0  \n",
      "3             14.0       14.0     74300000.0  \n",
      "4              6.0       14.0     82700000.0  \n",
      "..             ...        ...            ...  \n",
      "130           14.0       11.0    127100000.0  \n",
      "131            8.0       10.0    127100000.0  \n",
      "132           14.0       11.0    160700000.0  \n",
      "133           11.0       14.0    119300000.0  \n",
      "134            5.0        6.0    123000000.0  \n",
      "\n",
      "[135 rows x 57 columns]\n"
     ]
    }
   ],
   "execution_count": 252
  },
  {
   "metadata": {
    "ExecuteTime": {
     "end_time": "2024-11-03T16:37:04.047675Z",
     "start_time": "2024-11-03T16:37:03.958561Z"
    }
   },
   "cell_type": "code",
   "source": [
    "top_players_per_position2 = (\n",
    "    fifa_data_df.groupby('Position', as_index=False)\n",
    "    .apply(lambda x: x.nlargest(5, 'Overall')[['Name', 'Overall']])\n",
    "    .reset_index(drop=True)\n",
    ")\n",
    "top_players_per_position2\n"
   ],
   "id": "27f7b8b6d60ecc66",
   "outputs": [
    {
     "data": {
      "text/plain": [
       "                  Name  Overall\n",
       "0         A. Griezmann       89\n",
       "1           C. Eriksen       88\n",
       "2      Roberto Firmino       86\n",
       "3            T. Müller       86\n",
       "4              M. Özil       86\n",
       "..                 ...      ...\n",
       "130  Cristiano Ronaldo       94\n",
       "131     R. Lewandowski       90\n",
       "132            H. Kane       89\n",
       "133          S. Agüero       89\n",
       "134            G. Bale       88\n",
       "\n",
       "[135 rows x 2 columns]"
      ],
      "text/html": [
       "<div>\n",
       "<style scoped>\n",
       "    .dataframe tbody tr th:only-of-type {\n",
       "        vertical-align: middle;\n",
       "    }\n",
       "\n",
       "    .dataframe tbody tr th {\n",
       "        vertical-align: top;\n",
       "    }\n",
       "\n",
       "    .dataframe thead th {\n",
       "        text-align: right;\n",
       "    }\n",
       "</style>\n",
       "<table border=\"1\" class=\"dataframe\">\n",
       "  <thead>\n",
       "    <tr style=\"text-align: right;\">\n",
       "      <th></th>\n",
       "      <th>Name</th>\n",
       "      <th>Overall</th>\n",
       "    </tr>\n",
       "  </thead>\n",
       "  <tbody>\n",
       "    <tr>\n",
       "      <th>0</th>\n",
       "      <td>A. Griezmann</td>\n",
       "      <td>89</td>\n",
       "    </tr>\n",
       "    <tr>\n",
       "      <th>1</th>\n",
       "      <td>C. Eriksen</td>\n",
       "      <td>88</td>\n",
       "    </tr>\n",
       "    <tr>\n",
       "      <th>2</th>\n",
       "      <td>Roberto Firmino</td>\n",
       "      <td>86</td>\n",
       "    </tr>\n",
       "    <tr>\n",
       "      <th>3</th>\n",
       "      <td>T. Müller</td>\n",
       "      <td>86</td>\n",
       "    </tr>\n",
       "    <tr>\n",
       "      <th>4</th>\n",
       "      <td>M. Özil</td>\n",
       "      <td>86</td>\n",
       "    </tr>\n",
       "    <tr>\n",
       "      <th>...</th>\n",
       "      <td>...</td>\n",
       "      <td>...</td>\n",
       "    </tr>\n",
       "    <tr>\n",
       "      <th>130</th>\n",
       "      <td>Cristiano Ronaldo</td>\n",
       "      <td>94</td>\n",
       "    </tr>\n",
       "    <tr>\n",
       "      <th>131</th>\n",
       "      <td>R. Lewandowski</td>\n",
       "      <td>90</td>\n",
       "    </tr>\n",
       "    <tr>\n",
       "      <th>132</th>\n",
       "      <td>H. Kane</td>\n",
       "      <td>89</td>\n",
       "    </tr>\n",
       "    <tr>\n",
       "      <th>133</th>\n",
       "      <td>S. Agüero</td>\n",
       "      <td>89</td>\n",
       "    </tr>\n",
       "    <tr>\n",
       "      <th>134</th>\n",
       "      <td>G. Bale</td>\n",
       "      <td>88</td>\n",
       "    </tr>\n",
       "  </tbody>\n",
       "</table>\n",
       "<p>135 rows × 2 columns</p>\n",
       "</div>"
      ]
     },
     "execution_count": 253,
     "metadata": {},
     "output_type": "execute_result"
    }
   ],
   "execution_count": 253
  },
  {
   "metadata": {
    "ExecuteTime": {
     "end_time": "2024-11-03T16:37:04.180863Z",
     "start_time": "2024-11-03T16:37:04.167203Z"
    }
   },
   "cell_type": "code",
   "source": [
    "print(top_players_per_position0.head())\n",
    "print(top_players_per_position0.columns)\n"
   ],
   "id": "be52bdf3bed1ed1e",
   "outputs": [
    {
     "name": "stdout",
     "output_type": "stream",
     "text": [
      "       ID             Name  Age Nationality  Overall  Potential  \\\n",
      "0  194765     A. Griezmann   27      France       89         90   \n",
      "1  190460       C. Eriksen   26     Denmark       88         91   \n",
      "2  201942  Roberto Firmino   26      Brazil       86         87   \n",
      "3  189596        T. Müller   28     Germany       86         86   \n",
      "4  176635          M. Özil   29     Germany       86         86   \n",
      "\n",
      "                Club       Value      Wage Preferred Foot  ...  Composure  \\\n",
      "0    Atlético Madrid  78000000.0  145000.0           Left  ...       87.0   \n",
      "1  Tottenham Hotspur  73500000.0  205000.0          Right  ...       88.0   \n",
      "2          Liverpool  53000000.0  195000.0          Right  ...       87.0   \n",
      "3  FC Bayern München  45000000.0  135000.0          Right  ...       83.0   \n",
      "4            Arsenal  43500000.0  190000.0           Left  ...       82.0   \n",
      "\n",
      "   Marking  StandingTackle SlidingTackle GKDiving  GKHandling  GKKicking  \\\n",
      "0     59.0            47.0          48.0     14.0         8.0       14.0   \n",
      "1     59.0            57.0          22.0      9.0        14.0        7.0   \n",
      "2     60.0            64.0          42.0      8.0        11.0        9.0   \n",
      "3     44.0            41.0          44.0      6.0         7.0       11.0   \n",
      "4     24.0            16.0          19.0      6.0        14.0       10.0   \n",
      "\n",
      "  GKPositioning GKReflexes  Release Clause  \n",
      "0          13.0       14.0     165800000.0  \n",
      "1           7.0        6.0     141500000.0  \n",
      "2           6.0       10.0     104700000.0  \n",
      "3          14.0       14.0      74300000.0  \n",
      "4           6.0       14.0      82700000.0  \n",
      "\n",
      "[5 rows x 56 columns]\n",
      "Index(['ID', 'Name', 'Age', 'Nationality', 'Overall', 'Potential', 'Club',\n",
      "       'Value', 'Wage', 'Preferred Foot', 'International Reputation',\n",
      "       'Weak Foot', 'Skill Moves', 'Work Rate', 'Body Type', 'Jersey Number',\n",
      "       'Joined', 'Loaned From', 'Contract Valid Until', 'Height', 'Weight',\n",
      "       'Crossing', 'Finishing', 'HeadingAccuracy', 'ShortPassing', 'Volleys',\n",
      "       'Dribbling', 'Curve', 'FKAccuracy', 'LongPassing', 'BallControl',\n",
      "       'Acceleration', 'SprintSpeed', 'Agility', 'Reactions', 'Balance',\n",
      "       'ShotPower', 'Jumping', 'Stamina', 'Strength', 'LongShots',\n",
      "       'Aggression', 'Interceptions', 'Positioning', 'Vision', 'Penalties',\n",
      "       'Composure', 'Marking', 'StandingTackle', 'SlidingTackle', 'GKDiving',\n",
      "       'GKHandling', 'GKKicking', 'GKPositioning', 'GKReflexes',\n",
      "       'Release Clause'],\n",
      "      dtype='object')\n"
     ]
    }
   ],
   "execution_count": 254
  },
  {
   "metadata": {
    "ExecuteTime": {
     "end_time": "2024-11-03T16:37:04.306213Z",
     "start_time": "2024-11-03T16:37:04.300826Z"
    }
   },
   "cell_type": "code",
   "source": "print(top_players_per_position0.columns.tolist())\n",
   "id": "56117eae22d383b8",
   "outputs": [
    {
     "name": "stdout",
     "output_type": "stream",
     "text": [
      "['ID', 'Name', 'Age', 'Nationality', 'Overall', 'Potential', 'Club', 'Value', 'Wage', 'Preferred Foot', 'International Reputation', 'Weak Foot', 'Skill Moves', 'Work Rate', 'Body Type', 'Jersey Number', 'Joined', 'Loaned From', 'Contract Valid Until', 'Height', 'Weight', 'Crossing', 'Finishing', 'HeadingAccuracy', 'ShortPassing', 'Volleys', 'Dribbling', 'Curve', 'FKAccuracy', 'LongPassing', 'BallControl', 'Acceleration', 'SprintSpeed', 'Agility', 'Reactions', 'Balance', 'ShotPower', 'Jumping', 'Stamina', 'Strength', 'LongShots', 'Aggression', 'Interceptions', 'Positioning', 'Vision', 'Penalties', 'Composure', 'Marking', 'StandingTackle', 'SlidingTackle', 'GKDiving', 'GKHandling', 'GKKicking', 'GKPositioning', 'GKReflexes', 'Release Clause']\n"
     ]
    }
   ],
   "execution_count": 255
  },
  {
   "metadata": {
    "ExecuteTime": {
     "end_time": "2024-11-03T16:37:04.541458Z",
     "start_time": "2024-11-03T16:37:04.452231Z"
    }
   },
   "cell_type": "code",
   "source": [
    "top_players_per_position3 = (\n",
    "    fifa_data_df.groupby('Position', as_index=False)\n",
    "    .apply(lambda x: x.nlargest(5, 'Overall'))\n",
    ")\n",
    "\n",
    "# Resetting index to clean up the DataFrame\n",
    "top_players_per_position3 = top_players_per_position3.reset_index(drop=True)\n",
    "\n",
    "# Display the result\n",
    "print(top_players_per_position3)\n"
   ],
   "id": "36271f61d679d135",
   "outputs": [
    {
     "name": "stdout",
     "output_type": "stream",
     "text": [
      "         ID               Name  Age Nationality  Overall  Potential  \\\n",
      "0    194765       A. Griezmann   27      France       89         90   \n",
      "1    190460         C. Eriksen   26     Denmark       88         91   \n",
      "2    201942    Roberto Firmino   26      Brazil       86         87   \n",
      "3    189596          T. Müller   28     Germany       86         86   \n",
      "4    176635            M. Özil   29     Germany       86         86   \n",
      "..      ...                ...  ...         ...      ...        ...   \n",
      "130   20801  Cristiano Ronaldo   33    Portugal       94         94   \n",
      "131  188545     R. Lewandowski   29      Poland       90         90   \n",
      "132  202126            H. Kane   24     England       89         91   \n",
      "133  153079          S. Agüero   30   Argentina       89         89   \n",
      "134  173731            G. Bale   28       Wales       88         88   \n",
      "\n",
      "                  Club       Value      Wage Preferred Foot  ...  Composure  \\\n",
      "0      Atlético Madrid  78000000.0  145000.0           Left  ...       87.0   \n",
      "1    Tottenham Hotspur  73500000.0  205000.0          Right  ...       88.0   \n",
      "2            Liverpool  53000000.0  195000.0          Right  ...       87.0   \n",
      "3    FC Bayern München  45000000.0  135000.0          Right  ...       83.0   \n",
      "4              Arsenal  43500000.0  190000.0           Left  ...       82.0   \n",
      "..                 ...         ...       ...            ...  ...        ...   \n",
      "130           Juventus  77000000.0  405000.0          Right  ...       95.0   \n",
      "131  FC Bayern München  77000000.0  205000.0          Right  ...       86.0   \n",
      "132  Tottenham Hotspur  83500000.0  205000.0          Right  ...       89.0   \n",
      "133    Manchester City  64500000.0  300000.0          Right  ...       90.0   \n",
      "134        Real Madrid  60000000.0  355000.0           Left  ...       86.0   \n",
      "\n",
      "     Marking  StandingTackle SlidingTackle GKDiving GKHandling  GKKicking  \\\n",
      "0       59.0            47.0          48.0     14.0        8.0       14.0   \n",
      "1       59.0            57.0          22.0      9.0       14.0        7.0   \n",
      "2       60.0            64.0          42.0      8.0       11.0        9.0   \n",
      "3       44.0            41.0          44.0      6.0        7.0       11.0   \n",
      "4       24.0            16.0          19.0      6.0       14.0       10.0   \n",
      "..       ...             ...           ...      ...        ...        ...   \n",
      "130     28.0            31.0          23.0      7.0       11.0       15.0   \n",
      "131     34.0            42.0          19.0     15.0        6.0       12.0   \n",
      "132     56.0            36.0          38.0      8.0       10.0       11.0   \n",
      "133     30.0            20.0          12.0     13.0       15.0        6.0   \n",
      "134     54.0            55.0          52.0     15.0       15.0       11.0   \n",
      "\n",
      "     GKPositioning GKReflexes Release Clause  \n",
      "0             13.0       14.0    165800000.0  \n",
      "1              7.0        6.0    141500000.0  \n",
      "2              6.0       10.0    104700000.0  \n",
      "3             14.0       14.0     74300000.0  \n",
      "4              6.0       14.0     82700000.0  \n",
      "..             ...        ...            ...  \n",
      "130           14.0       11.0    127100000.0  \n",
      "131            8.0       10.0    127100000.0  \n",
      "132           14.0       11.0    160700000.0  \n",
      "133           11.0       14.0    119300000.0  \n",
      "134            5.0        6.0    123000000.0  \n",
      "\n",
      "[135 rows x 57 columns]\n"
     ]
    }
   ],
   "execution_count": 256
  },
  {
   "metadata": {
    "ExecuteTime": {
     "end_time": "2024-11-03T16:37:04.645276Z",
     "start_time": "2024-11-03T16:37:04.632613Z"
    }
   },
   "cell_type": "code",
   "source": [
    "# Top 5 Players with Overall Rating for each Unique Position\n",
    "# Display the DataFrame and its columns\n",
    "print(top_players_per_position0.head())\n",
    "print(top_players_per_position0.columns.tolist())\n",
    "\n",
    "# Strip any whitespace from column names\n",
    "top_players_per_position0.columns = top_players_per_position0.columns.str.strip()\n",
    "\n",
    "# Check for the updated column names\n",
    "print(top_players_per_position0.columns.tolist())\n",
    "\n",
    "# Assuming \"Position\" is the correct name, calculate the average wage\n",
    "if 'Position' in top_players_per_position0.columns and 'Wage' in top_players_per_position0.columns:\n",
    "    avg_wage_by_position0 = top_players_per_position0.groupby('Position')['Wage'].mean().reset_index()\n",
    "    print(avg_wage_by_position0)\n",
    "else:\n",
    "    print(\"Columns 'Position' or 'Wage' are missing.\")\n"
   ],
   "id": "c546f70c95c06904",
   "outputs": [
    {
     "name": "stdout",
     "output_type": "stream",
     "text": [
      "       ID             Name  Age Nationality  Overall  Potential  \\\n",
      "0  194765     A. Griezmann   27      France       89         90   \n",
      "1  190460       C. Eriksen   26     Denmark       88         91   \n",
      "2  201942  Roberto Firmino   26      Brazil       86         87   \n",
      "3  189596        T. Müller   28     Germany       86         86   \n",
      "4  176635          M. Özil   29     Germany       86         86   \n",
      "\n",
      "                Club       Value      Wage Preferred Foot  ...  Composure  \\\n",
      "0    Atlético Madrid  78000000.0  145000.0           Left  ...       87.0   \n",
      "1  Tottenham Hotspur  73500000.0  205000.0          Right  ...       88.0   \n",
      "2          Liverpool  53000000.0  195000.0          Right  ...       87.0   \n",
      "3  FC Bayern München  45000000.0  135000.0          Right  ...       83.0   \n",
      "4            Arsenal  43500000.0  190000.0           Left  ...       82.0   \n",
      "\n",
      "   Marking  StandingTackle SlidingTackle GKDiving  GKHandling  GKKicking  \\\n",
      "0     59.0            47.0          48.0     14.0         8.0       14.0   \n",
      "1     59.0            57.0          22.0      9.0        14.0        7.0   \n",
      "2     60.0            64.0          42.0      8.0        11.0        9.0   \n",
      "3     44.0            41.0          44.0      6.0         7.0       11.0   \n",
      "4     24.0            16.0          19.0      6.0        14.0       10.0   \n",
      "\n",
      "  GKPositioning GKReflexes  Release Clause  \n",
      "0          13.0       14.0     165800000.0  \n",
      "1           7.0        6.0     141500000.0  \n",
      "2           6.0       10.0     104700000.0  \n",
      "3          14.0       14.0      74300000.0  \n",
      "4           6.0       14.0      82700000.0  \n",
      "\n",
      "[5 rows x 56 columns]\n",
      "['ID', 'Name', 'Age', 'Nationality', 'Overall', 'Potential', 'Club', 'Value', 'Wage', 'Preferred Foot', 'International Reputation', 'Weak Foot', 'Skill Moves', 'Work Rate', 'Body Type', 'Jersey Number', 'Joined', 'Loaned From', 'Contract Valid Until', 'Height', 'Weight', 'Crossing', 'Finishing', 'HeadingAccuracy', 'ShortPassing', 'Volleys', 'Dribbling', 'Curve', 'FKAccuracy', 'LongPassing', 'BallControl', 'Acceleration', 'SprintSpeed', 'Agility', 'Reactions', 'Balance', 'ShotPower', 'Jumping', 'Stamina', 'Strength', 'LongShots', 'Aggression', 'Interceptions', 'Positioning', 'Vision', 'Penalties', 'Composure', 'Marking', 'StandingTackle', 'SlidingTackle', 'GKDiving', 'GKHandling', 'GKKicking', 'GKPositioning', 'GKReflexes', 'Release Clause']\n",
      "['ID', 'Name', 'Age', 'Nationality', 'Overall', 'Potential', 'Club', 'Value', 'Wage', 'Preferred Foot', 'International Reputation', 'Weak Foot', 'Skill Moves', 'Work Rate', 'Body Type', 'Jersey Number', 'Joined', 'Loaned From', 'Contract Valid Until', 'Height', 'Weight', 'Crossing', 'Finishing', 'HeadingAccuracy', 'ShortPassing', 'Volleys', 'Dribbling', 'Curve', 'FKAccuracy', 'LongPassing', 'BallControl', 'Acceleration', 'SprintSpeed', 'Agility', 'Reactions', 'Balance', 'ShotPower', 'Jumping', 'Stamina', 'Strength', 'LongShots', 'Aggression', 'Interceptions', 'Positioning', 'Vision', 'Penalties', 'Composure', 'Marking', 'StandingTackle', 'SlidingTackle', 'GKDiving', 'GKHandling', 'GKKicking', 'GKPositioning', 'GKReflexes', 'Release Clause']\n",
      "Columns 'Position' or 'Wage' are missing.\n"
     ]
    }
   ],
   "execution_count": 257
  },
  {
   "metadata": {},
   "cell_type": "markdown",
   "source": "# 21. What is the average wage one can expect to pay for the top 5 players in every position? (use the data frame created in Q19) (2 points)",
   "id": "ed7d091f244dd1cf"
  },
  {
   "metadata": {
    "ExecuteTime": {
     "end_time": "2024-11-03T16:37:04.737876Z",
     "start_time": "2024-11-03T16:37:04.732996Z"
    }
   },
   "cell_type": "code",
   "source": [
    "# Making sure both columns exist\n",
    "if 'Position' in top_players_per_position0.columns and 'Wage' in top_players_per_position0.columns:\n",
    "    avg_wage_by_position = (\n",
    "        top_players_per_position0.groupby('Position')['Wage'].mean().reset_index()\n",
    "    )\n",
    "    \n",
    "    # Rename columns for clarity (optional)\n",
    "    avg_wage_by_position.columns = ['Position', 'Average Wage']\n",
    "    \n",
    "    # Display the result\n",
    "    print(avg_wage_by_position)\n",
    "else:\n",
    "    print(\"Columns 'Position' or 'Wage' are missing.\")\n"
   ],
   "id": "aea5af474300f41f",
   "outputs": [
    {
     "name": "stdout",
     "output_type": "stream",
     "text": [
      "Columns 'Position' or 'Wage' are missing.\n"
     ]
    }
   ],
   "execution_count": 258
  },
  {
   "metadata": {
    "ExecuteTime": {
     "end_time": "2024-11-03T16:37:04.865850Z",
     "start_time": "2024-11-03T16:37:04.823706Z"
    }
   },
   "cell_type": "code",
   "source": [
    "# Position and Average Wage using fifa_data_df\n",
    "\n",
    "import pandas as pd\n",
    "\n",
    "# fifa_data_df is your DataFrame with 'Position' and 'Wage' columns\n",
    "# Step 1: Ensure 'Wage' is in a numeric format if it's not already\n",
    "fifa_data_df['Wage'] = pd.to_numeric(fifa_data_df['Wage'], errors='coerce')\n",
    "\n",
    "# Step 2: Group by 'Position' and select the top 5 players by 'Wage'\n",
    "top_players_per_position = (\n",
    "    fifa_data_df\n",
    "    .loc[:, ['Position', 'Wage']]  # Select only relevant columns first\n",
    "    .groupby('Position', group_keys=False)  # group_keys=False to suppress the warning\n",
    "    .apply(lambda x: x.nlargest(5, 'Wage'))\n",
    ")\n",
    "\n",
    "# Step 3: Calculate the average wage for the top 5 players in each position\n",
    "avg_wage_by_position = (\n",
    "    top_players_per_position.groupby('Position')['Wage'].mean().reset_index()\n",
    ")\n",
    "\n",
    "# Rename columns for clarity (optional)\n",
    "avg_wage_by_position.columns = ['Position', 'Average Wage']\n",
    "\n",
    "# Display the result\n",
    "print(avg_wage_by_position)\n"
   ],
   "id": "9ed49648b88a3d7c",
   "outputs": [
    {
     "name": "stdout",
     "output_type": "stream",
     "text": [
      "   Position  Average Wage\n",
      "0       CAM      192000.0\n",
      "1        CB      177000.0\n",
      "2       CDM      226000.0\n",
      "3        CF       56400.0\n",
      "4        CM      150000.0\n",
      "5        GK      217000.0\n",
      "6       LAM       82600.0\n",
      "7        LB      189000.0\n",
      "8       LCB      166000.0\n",
      "9       LCM      213000.0\n",
      "10      LDM      159000.0\n",
      "11       LF      123200.0\n",
      "12       LM      181000.0\n",
      "13       LS      148600.0\n",
      "14       LW      261000.0\n",
      "15      LWB       41200.0\n",
      "16      RAM       48400.0\n",
      "17       RB      164000.0\n",
      "18      RCB      231000.0\n",
      "19      RCM      264000.0\n",
      "20      RDM      110200.0\n",
      "21       RF      153000.0\n",
      "22       RM      161000.0\n",
      "23       RS      154600.0\n",
      "24       RW      207000.0\n",
      "25      RWB       51800.0\n",
      "26       ST      306000.0\n"
     ]
    }
   ],
   "execution_count": 259
  },
  {
   "metadata": {
    "ExecuteTime": {
     "end_time": "2024-11-03T16:37:05.036911Z",
     "start_time": "2024-11-03T16:37:04.948628Z"
    }
   },
   "cell_type": "code",
   "source": [
    "# Alternate Solution\n",
    "import pandas as pd\n",
    "\n",
    "# Step 1: Convert 'Wage' to string to handle it safely\n",
    "fifa_data_df['Wage'] = fifa_data_df['Wage'].astype(str)\n",
    "\n",
    "# Step 2: Clean and convert 'Wage' to numeric\n",
    "fifa_data_df['Wage'] = (\n",
    "    fifa_data_df['Wage']\n",
    "    .str.replace('€', '', regex=False)  # Remove Euro sign\n",
    "    .str.replace('K', '', regex=False)  # Remove K\n",
    "    .str.replace(',', '', regex=False)   # Remove commas\n",
    "    .astype(float) * 1                 # Convert to float and multiply by 1\n",
    ")\n",
    "\n",
    "# Step 3: Group by Position and find the top 5 players by Wage\n",
    "top_players_per_position = fifa_data_df.groupby('Position').apply(lambda x: x.nlargest(5, 'Wage')).reset_index(drop=True)\n",
    "\n",
    "# Step 4: Calculate the average wage for the top 5 players in each position\n",
    "avg_wage_by_position = top_players_per_position.groupby('Position')['Wage'].mean().reset_index()\n",
    "\n",
    "# Step 5: Display the average wages\n",
    "print(avg_wage_by_position)\n"
   ],
   "id": "aeda20bd4019651b",
   "outputs": [
    {
     "name": "stdout",
     "output_type": "stream",
     "text": [
      "   Position      Wage\n",
      "0       CAM  192000.0\n",
      "1        CB  177000.0\n",
      "2       CDM  226000.0\n",
      "3        CF   56400.0\n",
      "4        CM  150000.0\n",
      "5        GK  217000.0\n",
      "6       LAM   82600.0\n",
      "7        LB  189000.0\n",
      "8       LCB  166000.0\n",
      "9       LCM  213000.0\n",
      "10      LDM  159000.0\n",
      "11       LF  123200.0\n",
      "12       LM  181000.0\n",
      "13       LS  148600.0\n",
      "14       LW  261000.0\n",
      "15      LWB   41200.0\n",
      "16      RAM   48400.0\n",
      "17       RB  164000.0\n",
      "18      RCB  231000.0\n",
      "19      RCM  264000.0\n",
      "20      RDM  110200.0\n",
      "21       RF  153000.0\n",
      "22       RM  161000.0\n",
      "23       RS  154600.0\n",
      "24       RW  207000.0\n",
      "25      RWB   51800.0\n",
      "26       ST  306000.0\n"
     ]
    }
   ],
   "execution_count": 260
  }
 ],
 "metadata": {
  "kernelspec": {
   "display_name": "Python 3",
   "language": "python",
   "name": "python3"
  },
  "language_info": {
   "codemirror_mode": {
    "name": "ipython",
    "version": 2
   },
   "file_extension": ".py",
   "mimetype": "text/x-python",
   "name": "python",
   "nbconvert_exporter": "python",
   "pygments_lexer": "ipython2",
   "version": "2.7.6"
  }
 },
 "nbformat": 4,
 "nbformat_minor": 5
}
